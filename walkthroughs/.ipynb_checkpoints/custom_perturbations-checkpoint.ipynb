{
 "cells": [
  {
   "cell_type": "markdown",
   "id": "3283eb92",
   "metadata": {},
   "source": [
    "# Generating SuPreMo input with custom perturbations"
   ]
  },
  {
   "cell_type": "markdown",
   "id": "d5a7b6b4",
   "metadata": {},
   "source": [
    "There are 2 file type options for custom input files:\n",
    "1. BED file\n",
    "2. TXT file\n",
    "\n",
    "They should have the following columns in this order: CHROM, POS, REF, ALT, END (SV only), SVTYPE (SV only), SVLEN (SV only).\n",
    "\n",
    "**Note:**\n",
    "- TXT files should be Tab-delimited text files with a .txt file extension.\n",
    "\n",
    "- In the descriptions below, sequence alleles refer to rows where REF and ALT are both sequences (only made up of ACGTs), otherwise they are symbolic alleles (see https://samtools.github.io/hts-specs/VCFv4.1.pdf). Usually SNPs and indels smaller than 1kb are annotated as seqeunce alleles, and all other structural variants as symbolic alleles.\n",
    "\n",
    "- 0-based coordinates that are right open [,) are the same as 1-based coordinates that are left open (,]\n",
    "\n",
    "- The input (whether a BED or text file) can be made up of a combination of sequence or symbolic alleles. The requirements metioned here apply to each row. Columns that are not required for sequence variants can be dashes.\n",
    "\n",
    "**How do you know if you should use sequence or symbolic alleles:**\n",
    "- SNPs and insertions must be denoted using sequences alleles.\n",
    "- Deletions, inversions, and duplications are usually more easily denoted as symbolic alleles, especially if you start with a set of genomic coordinates that you want to perturb in this way.\n",
    "- Chromosomal rearrangements must be denoted using symbolic alleles.\n",
    "\n"
   ]
  },
  {
   "cell_type": "code",
   "execution_count": 1,
   "id": "18b03037",
   "metadata": {},
   "outputs": [],
   "source": [
    "import pandas as pd\n",
    "import pysam\n",
    "\n",
    "import os\n",
    "from pathlib import Path\n",
    "\n",
    "fasta_path = '../data/hg38.fa' # Change this accordingly \n",
    "\n",
    "# To generate sequence alleles, we need to get the corresponding sequences from the hg38 fasta file\n",
    "\n",
    "if not Path(fasta_path).is_file():\n",
    "    os.system('wget -P ../data/ https://hgdownload.soe.ucsc.edu/goldenPath/hg38/bigZips/hg38.fa.gz')\n",
    "    os.system('gunzip ../data/hg38.fa.gz')\n",
    "    print('Fasta file downloaded as data/hg38.fa.')\n",
    "    \n",
    "fasta_open = pysam.Fastafile(fasta_path)"
   ]
  },
  {
   "cell_type": "markdown",
   "id": "0b42eefc",
   "metadata": {},
   "source": [
    "## Get set of toy perturbations"
   ]
  },
  {
   "cell_type": "code",
   "execution_count": 3,
   "id": "b042cd2b",
   "metadata": {},
   "outputs": [],
   "source": [
    "# Get CTCF coordinates from CTCFBSDB 2.0 (PMID: 23193294)\n",
    "working_dir = '../test_data/custom_perturbations/'\n",
    "ctcf_coords_path = f'{working_dir}allcomp.txt'\n",
    "\n",
    "if not Path(ctcf_coords_path).is_file():\n",
    "    os.system('wget -P ../test/custom_perturbations/ https://insulatordb.uthsc.edu/download/allcomp.txt.gz')\n",
    "    os.system('gunzip ../test/custom_perturbations/allcomp.txt.gz')"
   ]
  },
  {
   "cell_type": "code",
   "execution_count": 11,
   "id": "906161ee",
   "metadata": {},
   "outputs": [
    {
     "data": {
      "text/html": [
       "<div>\n",
       "<style scoped>\n",
       "    .dataframe tbody tr th:only-of-type {\n",
       "        vertical-align: middle;\n",
       "    }\n",
       "\n",
       "    .dataframe tbody tr th {\n",
       "        vertical-align: top;\n",
       "    }\n",
       "\n",
       "    .dataframe thead th {\n",
       "        text-align: right;\n",
       "    }\n",
       "</style>\n",
       "<table border=\"1\" class=\"dataframe\">\n",
       "  <thead>\n",
       "    <tr style=\"text-align: right;\">\n",
       "      <th></th>\n",
       "      <th>CHROM</th>\n",
       "      <th>POS</th>\n",
       "      <th>END</th>\n",
       "    </tr>\n",
       "  </thead>\n",
       "  <tbody>\n",
       "    <tr>\n",
       "      <th>0</th>\n",
       "      <td>chr1</td>\n",
       "      <td>100276250</td>\n",
       "      <td>100276269</td>\n",
       "    </tr>\n",
       "    <tr>\n",
       "      <th>1</th>\n",
       "      <td>chr1</td>\n",
       "      <td>101106697</td>\n",
       "      <td>101106716</td>\n",
       "    </tr>\n",
       "    <tr>\n",
       "      <th>2</th>\n",
       "      <td>chr1</td>\n",
       "      <td>101159421</td>\n",
       "      <td>101159440</td>\n",
       "    </tr>\n",
       "    <tr>\n",
       "      <th>3</th>\n",
       "      <td>chr1</td>\n",
       "      <td>101442377</td>\n",
       "      <td>101442396</td>\n",
       "    </tr>\n",
       "    <tr>\n",
       "      <th>4</th>\n",
       "      <td>chr1</td>\n",
       "      <td>101526743</td>\n",
       "      <td>101526762</td>\n",
       "    </tr>\n",
       "  </tbody>\n",
       "</table>\n",
       "</div>"
      ],
      "text/plain": [
       "  CHROM        POS        END\n",
       "0  chr1  100276250  100276269\n",
       "1  chr1  101106697  101106716\n",
       "2  chr1  101159421  101159440\n",
       "3  chr1  101442377  101442396\n",
       "4  chr1  101526743  101526762"
      ]
     },
     "execution_count": 11,
     "metadata": {},
     "output_type": "execute_result"
    }
   ],
   "source": [
    "# Read CTCF coordinates and modify columns\n",
    "ctcf_coords = pd.read_csv(ctcf_coords_path, sep = '\\t')\n",
    "ctcf_coords = ctcf_coords[ctcf_coords.Species == 'Human']\n",
    "ctcf_coords['CHROM'] = ctcf_coords['Chromosome Location'].str.split(':').str[0]\n",
    "ctcf_coords['POS'] = ctcf_coords['Chromosome Location'].str.split(':').str[1].str.split('-').str[0].astype('int')\n",
    "ctcf_coords['END'] = ctcf_coords['Chromosome Location'].str.split('-').str[1].astype('int')\n",
    "\n",
    "ctcf_coords = ctcf_coords[['CHROM', 'POS', 'END']][:50] # only using first 50 loci\n",
    "ctcf_coords.head()"
   ]
  },
  {
   "cell_type": "markdown",
   "id": "dc56d957",
   "metadata": {},
   "source": [
    "Assume these coordinates are 0-based and right open [,) meaning POS is included but END is not."
   ]
  },
  {
   "cell_type": "markdown",
   "id": "06aefbd4",
   "metadata": {},
   "source": [
    "# BED file"
   ]
  },
  {
   "cell_type": "markdown",
   "id": "6f046bd4",
   "metadata": {},
   "source": [
    "The BED file requires the following additional columns (corresponding to traditional columns: name, score, strand, thickStart):\n",
    "- REF (only used for sequence alleles): Reference allele.\n",
    "\n",
    "- ALT (only used for sequence alleles): Alternate allele.\n",
    "\n",
    "- SVTYPE (only used for symbolic alleles): One of the following: DEL, DUP, INV, BND.\n",
    "\n",
    "- SVLEN (only used for symbolic alleles): Length of variant, should be END - POS.\n",
    "\n",
    "Requirements:\n",
    "- Coordinates are 0-based\n",
    "- Coordinates are right open [,) meaning POS is included and END is not\n",
    "- Must not have header\n",
    "- Column order matters"
   ]
  },
  {
   "cell_type": "markdown",
   "id": "7d91923e",
   "metadata": {},
   "source": [
    "## Sequence alleles"
   ]
  },
  {
   "cell_type": "markdown",
   "id": "eaabe4ee",
   "metadata": {},
   "source": [
    "Let's delete the CTCF sites from above using sequence alleles and a BED file"
   ]
  },
  {
   "cell_type": "code",
   "execution_count": 12,
   "id": "c7a54ec9",
   "metadata": {},
   "outputs": [],
   "source": [
    "ctcf_seq_alleles_bed = ctcf_coords.copy()"
   ]
  },
  {
   "cell_type": "code",
   "execution_count": 13,
   "id": "6c4fe9af",
   "metadata": {},
   "outputs": [],
   "source": [
    "# Get REF and ALT sequences\n",
    "for i in ctcf_seq_alleles_bed.index:\n",
    "    \n",
    "    CHROM = ctcf_seq_alleles_bed.loc[i,'CHROM']\n",
    "    POS = ctcf_seq_alleles_bed.loc[i,'POS']\n",
    "    END = ctcf_seq_alleles_bed.loc[i,'END']\n",
    "    \n",
    "    # Subtract 1 from POS to get the base pair before the deletion\n",
    "    REF = fasta_open.fetch(CHROM, POS - 1, END).upper()\n",
    "    ctcf_seq_alleles_bed.loc[i,'REF'] = REF\n",
    "    \n",
    "    # ALT is the base pair before the deletion\n",
    "    ctcf_seq_alleles_bed.loc[i,'ALT'] = REF[0]\n",
    "\n",
    "\n",
    "# Since we are using sequence alleles, SVTYPE and SVLEN are not required"
   ]
  },
  {
   "cell_type": "code",
   "execution_count": 14,
   "id": "64eefc3b",
   "metadata": {},
   "outputs": [],
   "source": [
    "# Save to bed file\n",
    "ctcf_seq_alleles_bed.to_csv(f'{working_dir}input/CTCF_del_seq_alleles.bed', sep = '\\t', index = False, header = False)"
   ]
  },
  {
   "cell_type": "code",
   "execution_count": 16,
   "id": "6da7e40e",
   "metadata": {},
   "outputs": [
    {
     "name": "stdout",
     "output_type": "stream",
     "text": [
      "chr1\t100276250\t100276269\tTCCCTTATATAGTGAACTTA\tT\r\n",
      "chr1\t101106697\t101106716\tAATTGATAAGCCACTGACTA\tA\r\n",
      "chr1\t101159421\t101159440\tTGCATAGTGGTGCAATAAAC\tT\r\n",
      "chr1\t101442377\t101442396\tTCTGCCCTCTTGGGTTTTTA\tT\r\n",
      "chr1\t101526743\t101526762\tGAGTTAGAGAAGTGGATGCA\tG\r\n",
      "chr1\t101595702\t101595721\tGCATCTTCCACCAATATAAG\tG\r\n",
      "chr1\t101693506\t101693525\tAATATTTTCTAATTTTTCTT\tA\r\n",
      "chr1\t101744879\t101744898\tACTAGCATTTAATAAAACTC\tA\r\n",
      "chr1\t102007853\t102007872\tTAATACTTCTTTACAAGATA\tT\r\n",
      "chr1\t10192988\t10193007\tTCAACTAATTTTGTATTTTT\tT\r\n"
     ]
    }
   ],
   "source": [
    "! head ../test_data/custom_perturbations/input/CTCF_del_seq_alleles.bed"
   ]
  },
  {
   "cell_type": "markdown",
   "id": "6cd658fe",
   "metadata": {},
   "source": [
    "## Symbolic alleles"
   ]
  },
  {
   "cell_type": "markdown",
   "id": "6a9c6838",
   "metadata": {},
   "source": [
    "Let's delete the CTCF sites from above using symbolic alleles and a BED file"
   ]
  },
  {
   "cell_type": "code",
   "execution_count": 17,
   "id": "c0a6880f",
   "metadata": {},
   "outputs": [],
   "source": [
    "ctcf_symb_alleles_bed = ctcf_coords.copy()"
   ]
  },
  {
   "cell_type": "code",
   "execution_count": 18,
   "id": "6d137ae9",
   "metadata": {},
   "outputs": [],
   "source": [
    "# Add REF and ALT - they are not used so make dash (cannot be empty)\n",
    "ctcf_symb_alleles_bed['REF'] = '-'\n",
    "ctcf_symb_alleles_bed['ALT'] = '-'\n",
    "\n",
    "# Add SVTYPE = DEL since we want to delete these regions\n",
    "ctcf_symb_alleles_bed['SVTYPE'] = 'DEL'\n",
    "\n",
    "# Add SVLEN = END - POS. This is a requirement so that variants that are too large can be filtered out to save time and memory\n",
    "ctcf_symb_alleles_bed['SVLEN'] = ctcf_symb_alleles_bed['END'] - ctcf_symb_alleles_bed['POS']\n"
   ]
  },
  {
   "cell_type": "code",
   "execution_count": 19,
   "id": "77b49cc7",
   "metadata": {},
   "outputs": [],
   "source": [
    "# Save to bed file\n",
    "ctcf_symb_alleles_bed.to_csv(f'{working_dir}input/CTCF_del_symb_alleles.bed', sep = '\\t', index = False, header = False)"
   ]
  },
  {
   "cell_type": "code",
   "execution_count": 20,
   "id": "99e1d033",
   "metadata": {},
   "outputs": [
    {
     "name": "stdout",
     "output_type": "stream",
     "text": [
      "chr1\t100276250\t100276269\t-\t-\tDEL\t19\r\n",
      "chr1\t101106697\t101106716\t-\t-\tDEL\t19\r\n",
      "chr1\t101159421\t101159440\t-\t-\tDEL\t19\r\n",
      "chr1\t101442377\t101442396\t-\t-\tDEL\t19\r\n",
      "chr1\t101526743\t101526762\t-\t-\tDEL\t19\r\n",
      "chr1\t101595702\t101595721\t-\t-\tDEL\t19\r\n",
      "chr1\t101693506\t101693525\t-\t-\tDEL\t19\r\n",
      "chr1\t101744879\t101744898\t-\t-\tDEL\t19\r\n",
      "chr1\t102007853\t102007872\t-\t-\tDEL\t19\r\n",
      "chr1\t10192988\t10193007\t-\t-\tDEL\t19\r\n"
     ]
    }
   ],
   "source": [
    "! head ../test_data/custom_perturbations/input/CTCF_del_symb_alleles.bed"
   ]
  },
  {
   "cell_type": "markdown",
   "id": "1b5b461b",
   "metadata": {},
   "source": [
    "# TXT file"
   ]
  },
  {
   "cell_type": "markdown",
   "id": "b6be4bf9",
   "metadata": {},
   "source": [
    "The tab-delimited text file required the following columns (order does not matter):\n",
    "- CHROM: chromosome in format chr1.\n",
    "\n",
    "- POS: The first position of the variant; 1-based; POS is only included in the variant for SNPs, otherwise variant starts at the next position.\n",
    "\n",
    "- REF (only used for sequence alleles): Reference allele.\n",
    "\n",
    "- ALT (only used for sequence alleles): Alternate allele.\n",
    "\n",
    "- END (only used for symbolic alleles): The last position of the variant; 1-based; END is not included in the variant only for SNPs, otherwise it is included.\n",
    "\n",
    "- SVTYPE (only used for symbolic alleles): One of the following: DEL, DUP, INV, BND.\n",
    "\n",
    "- SVLEN (only used for symbolic alleles): Length of variant, should be END - POS.\n",
    "\n",
    "Requirements:\n",
    "- Coordinates are 1-based\n",
    "- Coordinates are left open (,] meaning POS is not included and END is included (other than for SNPs)\n",
    "- Must have header\n",
    "- Column order does not matter"
   ]
  },
  {
   "cell_type": "markdown",
   "id": "e319b0d2",
   "metadata": {},
   "source": [
    "## Sequence alleles"
   ]
  },
  {
   "cell_type": "code",
   "execution_count": 21,
   "id": "5db58154",
   "metadata": {},
   "outputs": [],
   "source": [
    "ctcf_seq_alleles_txt = ctcf_coords.copy()"
   ]
  },
  {
   "cell_type": "code",
   "execution_count": 22,
   "id": "6b0a992a",
   "metadata": {},
   "outputs": [],
   "source": [
    "# Get REF and ALT sequences\n",
    "for i in ctcf_seq_alleles_txt.index:\n",
    "    \n",
    "    CHROM = ctcf_seq_alleles_txt.loc[i,'CHROM']\n",
    "    POS = ctcf_seq_alleles_txt.loc[i,'POS']\n",
    "    END = ctcf_seq_alleles_txt.loc[i,'END']\n",
    "    \n",
    "    # Subtract 1 from POS to get the base pair before the deletion\n",
    "    REF = fasta_open.fetch(CHROM, POS - 1, END).upper()\n",
    "    ctcf_seq_alleles_txt.loc[i,'REF'] = REF\n",
    "    \n",
    "    # ALT is the base pair before the deletion\n",
    "    ctcf_seq_alleles_txt.loc[i,'ALT'] = REF[0]\n",
    "\n",
    "\n",
    "# Since we are using sequence alleles, END, SVTYPE and SVLEN are not required\n",
    "ctcf_seq_alleles_txt = ctcf_seq_alleles_txt.drop('END', axis = 1)"
   ]
  },
  {
   "cell_type": "code",
   "execution_count": 23,
   "id": "62a8ad88",
   "metadata": {},
   "outputs": [],
   "source": [
    "# Save to text file\n",
    "ctcf_seq_alleles_txt.to_csv(f'{working_dir}input/CTCF_del_seq_alleles.txt', sep = '\\t', index = False)"
   ]
  },
  {
   "cell_type": "code",
   "execution_count": 24,
   "id": "5845f640",
   "metadata": {},
   "outputs": [
    {
     "name": "stdout",
     "output_type": "stream",
     "text": [
      "CHROM\tPOS\tREF\tALT\r\n",
      "chr1\t100276250\tTCCCTTATATAGTGAACTTA\tT\r\n",
      "chr1\t101106697\tAATTGATAAGCCACTGACTA\tA\r\n",
      "chr1\t101159421\tTGCATAGTGGTGCAATAAAC\tT\r\n",
      "chr1\t101442377\tTCTGCCCTCTTGGGTTTTTA\tT\r\n",
      "chr1\t101526743\tGAGTTAGAGAAGTGGATGCA\tG\r\n",
      "chr1\t101595702\tGCATCTTCCACCAATATAAG\tG\r\n",
      "chr1\t101693506\tAATATTTTCTAATTTTTCTT\tA\r\n",
      "chr1\t101744879\tACTAGCATTTAATAAAACTC\tA\r\n",
      "chr1\t102007853\tTAATACTTCTTTACAAGATA\tT\r\n"
     ]
    }
   ],
   "source": [
    "! head ../test_data/custom_perturbations/input/CTCF_del_seq_alleles.txt"
   ]
  },
  {
   "cell_type": "markdown",
   "id": "cbba7133",
   "metadata": {},
   "source": [
    "## Symbolic alleles"
   ]
  },
  {
   "cell_type": "code",
   "execution_count": 25,
   "id": "de9585e6",
   "metadata": {},
   "outputs": [],
   "source": [
    "ctcf_symb_alleles_txt = ctcf_coords.copy()"
   ]
  },
  {
   "cell_type": "code",
   "execution_count": 26,
   "id": "f1dba512",
   "metadata": {},
   "outputs": [],
   "source": [
    "# Add REF and ALT - they are not used so make dash (cannot be empty)\n",
    "ctcf_symb_alleles_txt['REF'] = '-'\n",
    "ctcf_symb_alleles_txt['ALT'] = '-'\n",
    "\n",
    "# Add SVTYPE = DEL since we want to delete these regions\n",
    "ctcf_symb_alleles_txt['SVTYPE'] = 'DEL'\n",
    "\n",
    "# Add SVLEN = END - POS. This is a requirement so that variants that are too large can be filtered out to save time and memory\n",
    "ctcf_symb_alleles_txt['SVLEN'] = ctcf_symb_alleles_txt['END'] - ctcf_symb_alleles_txt['POS']\n"
   ]
  },
  {
   "cell_type": "code",
   "execution_count": 27,
   "id": "d6b4ac3d",
   "metadata": {},
   "outputs": [],
   "source": [
    "# Save to text file\n",
    "ctcf_symb_alleles_txt.to_csv(f'{working_dir}input/CTCF_del_symb_alleles.txt', sep = '\\t', index = False)"
   ]
  },
  {
   "cell_type": "code",
   "execution_count": 28,
   "id": "a80cb916",
   "metadata": {},
   "outputs": [
    {
     "name": "stdout",
     "output_type": "stream",
     "text": [
      "CHROM\tPOS\tEND\tREF\tALT\tSVTYPE\tSVLEN\r\n",
      "chr1\t100276250\t100276269\t-\t-\tDEL\t19\r\n",
      "chr1\t101106697\t101106716\t-\t-\tDEL\t19\r\n",
      "chr1\t101159421\t101159440\t-\t-\tDEL\t19\r\n",
      "chr1\t101442377\t101442396\t-\t-\tDEL\t19\r\n",
      "chr1\t101526743\t101526762\t-\t-\tDEL\t19\r\n",
      "chr1\t101595702\t101595721\t-\t-\tDEL\t19\r\n",
      "chr1\t101693506\t101693525\t-\t-\tDEL\t19\r\n",
      "chr1\t101744879\t101744898\t-\t-\tDEL\t19\r\n",
      "chr1\t102007853\t102007872\t-\t-\tDEL\t19\r\n"
     ]
    }
   ],
   "source": [
    "! head ../test_data/custom_perturbations/input/CTCF_del_symb_alleles.txt"
   ]
  }
 ],
 "metadata": {
  "kernelspec": {
   "display_name": "Python 3 (ipykernel)",
   "language": "python",
   "name": "python3"
  },
  "language_info": {
   "codemirror_mode": {
    "name": "ipython",
    "version": 3
   },
   "file_extension": ".py",
   "mimetype": "text/x-python",
   "name": "python",
   "nbconvert_exporter": "python",
   "pygments_lexer": "ipython3",
   "version": "3.9.0"
  },
  "toc": {
   "base_numbering": 1,
   "nav_menu": {},
   "number_sections": true,
   "sideBar": true,
   "skip_h1_title": false,
   "title_cell": "Table of Contents",
   "title_sidebar": "Contents",
   "toc_cell": false,
   "toc_position": {},
   "toc_section_display": true,
   "toc_window_display": true
  }
 },
 "nbformat": 4,
 "nbformat_minor": 5
}
