{
 "cells": [
  {
   "cell_type": "markdown",
   "id": "46b0bcee",
   "metadata": {},
   "source": [
    "# SuPreMo walkthrough"
   ]
  },
  {
   "cell_type": "markdown",
   "id": "a6cb0522",
   "metadata": {},
   "source": [
    "In this walkthrough, we will run get_seq on CTCF binding site deletions, which we generated in [custom_perturbations.ipynb](https://github.com/ketringjoni/Akita_variant_scoring/blob/main/walkthroughs/custom_perturbations.ipynb).\n",
    "\n",
    "To do so, we've run the following command (the output of the following cell) in the terminal. By changing the variables below, you can get a command that fits your custom set of perturbations. Note: there are more arguments available that are not included here.  "
   ]
  },
  {
   "cell_type": "code",
   "execution_count": 1,
   "id": "90f9ede9",
   "metadata": {},
   "outputs": [],
   "source": [
    "import pandas as pd\n",
    "import numpy as np\n",
    "import os\n",
    "import pysam\n",
    "from collections import Counter"
   ]
  },
  {
   "cell_type": "code",
   "execution_count": 2,
   "id": "5d737bb6",
   "metadata": {},
   "outputs": [],
   "source": [
    "# Change the following paths to match your working directory/input file/output files\n",
    "\n",
    "data_dir = 'test_data/custom_perturbations/'\n",
    "\n",
    "in_file = f'{data_dir}input/CTCF_del_symb_alleles.txt' # Input directory\n",
    "directory = f'{data_dir}output' # Output directory"
   ]
  },
  {
   "cell_type": "code",
   "execution_count": 3,
   "id": "486f68ed",
   "metadata": {},
   "outputs": [
    {
     "name": "stdout",
     "output_type": "stream",
     "text": [
      "Run this command in the main directory:\n",
      "\n",
      "python scripts/SuPreMo.py test_data/custom_perturbations/input/CTCF_del_symb_alleles.txt --shift_by -1 0 1 --revcomp add_revcomp --file CTCF_del --dir test_data/custom_perturbations/output --get_seq --seq_len 1000\n"
     ]
    }
   ],
   "source": [
    "# Write command\n",
    "\n",
    "shift_by = '-1 0 1' # Shift sequences by 1 bp left and right\n",
    "revcomp = 'add_revcomp' # Also score the reverse complement of all sequences\n",
    "file = 'CTCF_del' # Output files prefix\n",
    "seq_length = 1000 # This is the sequence length required for DeepSEA\n",
    "\n",
    "\n",
    "out_file = os.path.join(directory, file) # Path to output files\n",
    "\n",
    "print('Run this command in the main directory:\\n')\n",
    "print('python scripts/SuPreMo.py', in_file,\n",
    "      '--shift_by', shift_by,\n",
    "      '--revcomp', revcomp,\n",
    "      '--file', file,\n",
    "      '--dir', directory,\n",
    "      '--get_seq',\n",
    "      '--seq_len', seq_length)\n"
   ]
  },
  {
   "cell_type": "code",
   "execution_count": 4,
   "id": "aac83a0d",
   "metadata": {},
   "outputs": [
    {
     "data": {
      "text/html": [
       "<div>\n",
       "<style scoped>\n",
       "    .dataframe tbody tr th:only-of-type {\n",
       "        vertical-align: middle;\n",
       "    }\n",
       "\n",
       "    .dataframe tbody tr th {\n",
       "        vertical-align: top;\n",
       "    }\n",
       "\n",
       "    .dataframe thead th {\n",
       "        text-align: right;\n",
       "    }\n",
       "</style>\n",
       "<table border=\"1\" class=\"dataframe\">\n",
       "  <thead>\n",
       "    <tr style=\"text-align: right;\">\n",
       "      <th></th>\n",
       "      <th>CHROM</th>\n",
       "      <th>POS</th>\n",
       "      <th>REF</th>\n",
       "      <th>ALT</th>\n",
       "      <th>END</th>\n",
       "      <th>SVTYPE</th>\n",
       "      <th>SVLEN</th>\n",
       "    </tr>\n",
       "  </thead>\n",
       "  <tbody>\n",
       "    <tr>\n",
       "      <th>0</th>\n",
       "      <td>chr1</td>\n",
       "      <td>100276250</td>\n",
       "      <td>-</td>\n",
       "      <td>-</td>\n",
       "      <td>100276269</td>\n",
       "      <td>DEL</td>\n",
       "      <td>19</td>\n",
       "    </tr>\n",
       "    <tr>\n",
       "      <th>1</th>\n",
       "      <td>chr1</td>\n",
       "      <td>101106697</td>\n",
       "      <td>-</td>\n",
       "      <td>-</td>\n",
       "      <td>101106716</td>\n",
       "      <td>DEL</td>\n",
       "      <td>19</td>\n",
       "    </tr>\n",
       "    <tr>\n",
       "      <th>2</th>\n",
       "      <td>chr1</td>\n",
       "      <td>101159421</td>\n",
       "      <td>-</td>\n",
       "      <td>-</td>\n",
       "      <td>101159440</td>\n",
       "      <td>DEL</td>\n",
       "      <td>19</td>\n",
       "    </tr>\n",
       "    <tr>\n",
       "      <th>3</th>\n",
       "      <td>chr1</td>\n",
       "      <td>101442377</td>\n",
       "      <td>-</td>\n",
       "      <td>-</td>\n",
       "      <td>101442396</td>\n",
       "      <td>DEL</td>\n",
       "      <td>19</td>\n",
       "    </tr>\n",
       "    <tr>\n",
       "      <th>4</th>\n",
       "      <td>chr1</td>\n",
       "      <td>101526743</td>\n",
       "      <td>-</td>\n",
       "      <td>-</td>\n",
       "      <td>101526762</td>\n",
       "      <td>DEL</td>\n",
       "      <td>19</td>\n",
       "    </tr>\n",
       "    <tr>\n",
       "      <th>5</th>\n",
       "      <td>chr1</td>\n",
       "      <td>101595702</td>\n",
       "      <td>-</td>\n",
       "      <td>-</td>\n",
       "      <td>101595721</td>\n",
       "      <td>DEL</td>\n",
       "      <td>19</td>\n",
       "    </tr>\n",
       "    <tr>\n",
       "      <th>6</th>\n",
       "      <td>chr1</td>\n",
       "      <td>101693506</td>\n",
       "      <td>-</td>\n",
       "      <td>-</td>\n",
       "      <td>101693525</td>\n",
       "      <td>DEL</td>\n",
       "      <td>19</td>\n",
       "    </tr>\n",
       "    <tr>\n",
       "      <th>7</th>\n",
       "      <td>chr1</td>\n",
       "      <td>101744879</td>\n",
       "      <td>-</td>\n",
       "      <td>-</td>\n",
       "      <td>101744898</td>\n",
       "      <td>DEL</td>\n",
       "      <td>19</td>\n",
       "    </tr>\n",
       "    <tr>\n",
       "      <th>8</th>\n",
       "      <td>chr1</td>\n",
       "      <td>102007853</td>\n",
       "      <td>-</td>\n",
       "      <td>-</td>\n",
       "      <td>102007872</td>\n",
       "      <td>DEL</td>\n",
       "      <td>19</td>\n",
       "    </tr>\n",
       "    <tr>\n",
       "      <th>9</th>\n",
       "      <td>chr1</td>\n",
       "      <td>10192988</td>\n",
       "      <td>-</td>\n",
       "      <td>-</td>\n",
       "      <td>10193007</td>\n",
       "      <td>DEL</td>\n",
       "      <td>19</td>\n",
       "    </tr>\n",
       "  </tbody>\n",
       "</table>\n",
       "</div>"
      ],
      "text/plain": [
       "  CHROM        POS REF ALT        END SVTYPE  SVLEN\n",
       "0  chr1  100276250   -   -  100276269    DEL     19\n",
       "1  chr1  101106697   -   -  101106716    DEL     19\n",
       "2  chr1  101159421   -   -  101159440    DEL     19\n",
       "3  chr1  101442377   -   -  101442396    DEL     19\n",
       "4  chr1  101526743   -   -  101526762    DEL     19\n",
       "5  chr1  101595702   -   -  101595721    DEL     19\n",
       "6  chr1  101693506   -   -  101693525    DEL     19\n",
       "7  chr1  101744879   -   -  101744898    DEL     19\n",
       "8  chr1  102007853   -   -  102007872    DEL     19\n",
       "9  chr1   10192988   -   -   10193007    DEL     19"
      ]
     },
     "execution_count": 4,
     "metadata": {},
     "output_type": "execute_result"
    }
   ],
   "source": [
    "# Read input\n",
    "\n",
    "import sys\n",
    "sys.path.insert(0, '../scripts')\n",
    "\n",
    "import reading_utils\n",
    "reading_utils.var_set_size = 10000000000\n",
    "\n",
    "variants = reading_utils.read_input(f'../{in_file}', 0)\n",
    "variants[:10]"
   ]
  },
  {
   "cell_type": "markdown",
   "id": "a0bcd642",
   "metadata": {},
   "source": [
    "# Filtered out file"
   ]
  },
  {
   "cell_type": "code",
   "execution_count": 9,
   "id": "4228eebf",
   "metadata": {},
   "outputs": [
    {
     "name": "stdout",
     "output_type": "stream",
     "text": [
      "No perturbations were filtered out.\n"
     ]
    }
   ],
   "source": [
    "# Read filtered out file\n",
    "\n",
    "filtered_out_file = f'../{out_file}_filtered_out'\n",
    "\n",
    "if os.path.getsize(filtered_out_file) == 0:\n",
    "    \n",
    "    print('No perturbations were filtered out.')\n",
    "\n",
    "else:\n",
    "    \n",
    "    with open(filtered_out_file) as f:\n",
    "        filtered_out = f.read().splitlines()\n",
    "        \n",
    "    # Get the number of variants that were filtered out for each type of reason\n",
    "\n",
    "    print(Counter([x.split(': ')[1] for x in filtered_out]))\n",
    "    \n",
    "    \n",
    "    # Get list of perturbations (input row number) that were filtered out\n",
    "\n",
    "    filtered_out_rows = np.unique([int(x.split(': ')[0]) for x in filtered_out])\n",
    "\n",
    "    print(filtered_out_rows[:10])"
   ]
  },
  {
   "cell_type": "markdown",
   "id": "bd3b93dc",
   "metadata": {},
   "source": [
    "# Log file"
   ]
  },
  {
   "cell_type": "markdown",
   "id": "6b503db3",
   "metadata": {},
   "source": [
    "Check the log file for errors and warnings"
   ]
  },
  {
   "cell_type": "code",
   "execution_count": 10,
   "id": "34c4328b",
   "metadata": {},
   "outputs": [
    {
     "data": {
      "text/plain": [
       "['0 (-1 shift)',\n",
       " '0 (0 shift)',\n",
       " '0 (0 shift_revcomp)',\n",
       " '0 (1 shift)',\n",
       " '1 (-1 shift)',\n",
       " '1 (0 shift)',\n",
       " '1 (0 shift_revcomp)',\n",
       " '1 (1 shift)',\n",
       " '2 (-1 shift)',\n",
       " '2 (0 shift)']"
      ]
     },
     "execution_count": 10,
     "metadata": {},
     "output_type": "execute_result"
    }
   ],
   "source": [
    "# Read log file\n",
    "\n",
    "with open(f'../{out_file}_log') as f: # \n",
    "    log = f.read().splitlines()\n",
    "\n",
    "log[:10]"
   ]
  },
  {
   "cell_type": "code",
   "execution_count": 30,
   "id": "329c5d61",
   "metadata": {},
   "outputs": [
    {
     "name": "stdout",
     "output_type": "stream",
     "text": [
      "There are 200 log messages so the counts below are out of 200\n"
     ]
    }
   ],
   "source": [
    "print('There are',len(log),'log messages so the counts below are out of', len(log))"
   ]
  },
  {
   "cell_type": "markdown",
   "id": "c7c0a665",
   "metadata": {},
   "source": [
    "## Warnings"
   ]
  },
  {
   "cell_type": "code",
   "execution_count": 31,
   "id": "ac4182be",
   "metadata": {},
   "outputs": [
    {
     "data": {
      "text/plain": [
       "[]"
      ]
     },
     "execution_count": 31,
     "metadata": {},
     "output_type": "execute_result"
    }
   ],
   "source": [
    "# Get perturbations that had warnings\n",
    "\n",
    "warnings = [x for x in log if 'Warning' in x]\n",
    "\n",
    "warnings[:10]"
   ]
  },
  {
   "cell_type": "code",
   "execution_count": 32,
   "id": "a8d61d4d",
   "metadata": {},
   "outputs": [
    {
     "data": {
      "text/plain": [
       "Counter()"
      ]
     },
     "execution_count": 32,
     "metadata": {},
     "output_type": "execute_result"
    }
   ],
   "source": [
    "# Get the number of each type of warning message\n",
    "\n",
    "Counter([x.split('Warning: ')[1] for x in warnings])"
   ]
  },
  {
   "cell_type": "code",
   "execution_count": 33,
   "id": "bc9fd592",
   "metadata": {},
   "outputs": [
    {
     "data": {
      "text/plain": [
       "array([], dtype=float64)"
      ]
     },
     "execution_count": 33,
     "metadata": {},
     "output_type": "execute_result"
    }
   ],
   "source": [
    "# Get list of perturbations (input row number) that have warnings in at least one of the conditions\n",
    "\n",
    "warning_rows = np.unique([x.split(' (')[0] for x in warnings])\n",
    "\n",
    "warning_rows[:10]"
   ]
  },
  {
   "cell_type": "markdown",
   "id": "77c7db07",
   "metadata": {},
   "source": [
    "## Errors "
   ]
  },
  {
   "cell_type": "code",
   "execution_count": 34,
   "id": "76e3e26d",
   "metadata": {},
   "outputs": [
    {
     "data": {
      "text/plain": [
       "[]"
      ]
     },
     "execution_count": 34,
     "metadata": {},
     "output_type": "execute_result"
    }
   ],
   "source": [
    "# Get perturbations that had errors\n",
    "\n",
    "errors = [x for x in log if 'Error' in x]\n",
    "error_messages = [x.split('Error: ')[1] for x in errors]\n",
    "\n",
    "errors[:10]"
   ]
  },
  {
   "cell_type": "code",
   "execution_count": 35,
   "id": "734db1e5",
   "metadata": {},
   "outputs": [
    {
     "name": "stdout",
     "output_type": "stream",
     "text": [
      "get_seq expected error messages:\n",
      "\n",
      " ['Alternate sequence generated is not the right length.'\n",
      " 'Cannot generate 1Mb sequence for this chromosomal rearrangement.'\n",
      " 'Centromeric variant.' 'N composition greater than 5%.'\n",
      " 'Reference allele does not match hg38.'\n",
      " 'Reference sequence generated is not the right length.'\n",
      " 'SV type not supported.'\n",
      " 'Sequence for the alternate allele does not match hg38 at REF position.'\n",
      " 'Unexpected format: BND ALT does not include REF.'\n",
      " 'Variant larger than set limit.'] \n",
      "\n",
      "\n"
     ]
    }
   ],
   "source": [
    "# These are all the expected error messages\n",
    "\n",
    "with open('../scripts/get_seq_utils.py', 'r') as f:\n",
    "    get_seq_error_messages = np.unique([l.split('\\'')[1] for l in f if 'raise ValueError' in l])\n",
    "\n",
    "print('get_seq expected error messages:\\n\\n', get_seq_error_messages, '\\n\\n')\n"
   ]
  },
  {
   "cell_type": "code",
   "execution_count": 36,
   "id": "999b5b5b",
   "metadata": {},
   "outputs": [
    {
     "data": {
      "text/plain": [
       "Counter()"
      ]
     },
     "execution_count": 36,
     "metadata": {},
     "output_type": "execute_result"
    }
   ],
   "source": [
    "# Get the number of each type of expected error message\n",
    "\n",
    "Counter(error_messages)"
   ]
  },
  {
   "cell_type": "code",
   "execution_count": 37,
   "id": "224eba62",
   "metadata": {},
   "outputs": [
    {
     "name": "stdout",
     "output_type": "stream",
     "text": [
      "0 get_seq error messages\n",
      "0 get_Akita_scores error messages\n"
     ]
    }
   ],
   "source": [
    "# Get number of get_seq and get_Akita_scores error messages\n",
    "\n",
    "print(len([x for x in error_messages if x in get_seq_error_messages]), 'get_seq error messages')\n",
    "print(len([x for x in error_messages if x in get_Akita_scores_error_messages]), 'get_Akita_scores error messages')"
   ]
  },
  {
   "cell_type": "code",
   "execution_count": 38,
   "id": "c6a57598",
   "metadata": {},
   "outputs": [
    {
     "data": {
      "text/plain": [
       "[]"
      ]
     },
     "execution_count": 38,
     "metadata": {},
     "output_type": "execute_result"
    }
   ],
   "source": [
    "# Check if any of these errors are unexpected\n",
    "\n",
    "[x for x in error_messages if x not in get_seq_error_messages and x not in get_Akita_scores_error_messages]"
   ]
  },
  {
   "cell_type": "code",
   "execution_count": 39,
   "id": "ade06a12",
   "metadata": {},
   "outputs": [
    {
     "data": {
      "text/plain": [
       "array([], dtype=float64)"
      ]
     },
     "execution_count": 39,
     "metadata": {},
     "output_type": "execute_result"
    }
   ],
   "source": [
    "# Get list of perturbations (input row number) that have errors in at least one of the conditions\n",
    "\n",
    "error_rows = np.unique([x.split(' (')[0] for x in errors])\n",
    "\n",
    "error_rows[:10]"
   ]
  },
  {
   "cell_type": "markdown",
   "id": "113eb33f",
   "metadata": {},
   "source": [
    "# Read in sequences"
   ]
  },
  {
   "cell_type": "code",
   "execution_count": 5,
   "id": "4de4a55a",
   "metadata": {},
   "outputs": [
    {
     "data": {
      "text/plain": [
       "['0_-1_0_[490_500]',\n",
       " '0_-1_1_[490_500]',\n",
       " '0_0_0_[489_499]',\n",
       " '0_0_1_[489_499]',\n",
       " '0_0_revcomp_0_[489_499]',\n",
       " '0_0_revcomp_1_[489_499]',\n",
       " '0_1_0_[488_498]',\n",
       " '0_1_1_[488_498]',\n",
       " '1_-1_0_[490_500]',\n",
       " '1_-1_1_[490_500]']"
      ]
     },
     "execution_count": 5,
     "metadata": {},
     "output_type": "execute_result"
    }
   ],
   "source": [
    "seq_file = f'../{out_file}' + '_sequences.fa'\n",
    "\n",
    "seq_names = pysam.Fastafile(seq_file).references\n",
    "seq_names[:10]"
   ]
  },
  {
   "cell_type": "code",
   "execution_count": 10,
   "id": "38070f57",
   "metadata": {},
   "outputs": [
    {
     "data": {
      "text/plain": [
       "'0_0'"
      ]
     },
     "execution_count": 10,
     "metadata": {},
     "output_type": "execute_result"
    }
   ],
   "source": [
    "f'{var_index}_{shift}{revcomp_annot}'"
   ]
  },
  {
   "cell_type": "code",
   "execution_count": 32,
   "id": "ba48a71d",
   "metadata": {},
   "outputs": [
    {
     "data": {
      "text/plain": [
       "True"
      ]
     },
     "execution_count": 32,
     "metadata": {},
     "output_type": "execute_result"
    }
   ],
   "source": [
    "'sequence_names' "
   ]
  },
  {
   "cell_type": "code",
   "execution_count": 25,
   "id": "f7127fce",
   "metadata": {},
   "outputs": [],
   "source": [
    "var_index = 0\n",
    "shift = 0\n",
    "revcomp_annot = ''\n",
    "\n",
    "if revcomp_annot == '':\n",
    "    sequence_names = [x for x in seq_names if x.startswith(f'{var_index}_{shift}') and 'revcomp' not in x]\n",
    "elif revcomp_annot == 'revcomp':\n",
    "    sequence_names = [x for x in seq_names if x.startswith(f'{var_index}_{shift}_{revcomp_annot}')]\n",
    "    \n",
    "sequences_i = []\n",
    "for sequence_name in sequence_names:\n",
    "    sequences_i.append(pysam.Fastafile(seq_file).fetch(sequence_name, 0, seq_length).upper())\n",
    "\n",
    "sequences_i.append([int(x) for x in sequence_name.split('[')[1].split(']')[0].split('_')])\n",
    "    \n",
    "    "
   ]
  },
  {
   "cell_type": "code",
   "execution_count": 26,
   "id": "6a0420e7",
   "metadata": {},
   "outputs": [
    {
     "data": {
      "text/plain": [
       "['CCTAAAATAGTTATCTAATTAAATTAAAGATTTTTAGGGTTTCTTGCTTAAGTTTATAGTTTTAAGAAGTATTTATTTATTTATTTATTTATTGAGGTGGAGTCTCGCTCTGTTGTCCAGGCTGGAGTGCCGTGGTGTGATCTTGGCTCACTGCAAGCTCCGCCTCCTGGGTTCATGCCATTCTTCTGCCTGAGCCTCCTGAGTAGCTGGGACTACAGGCGCCCACCACCACGCCCAGCTAATTTTTTGTATTTTTAGTAGAGACAGGGTTTCACCGTGTTAGCCAGGGTGGTCTTGATCTCCTGACCTCATGATCCACCTGCCTTGGCCTCCCAAAGTGCTGGGATTACAGGCATGAGCCACTGTGCCCAGCCTCAGTTTATATTTTTAAGGACATTCCTACCTAAAACACCAGTATGATAAATTAAGACAATTATTCTGAATTTTTTCTGAGGATGGCTTGCCTTTTGTTACCTTGTAAGATCCCTTTCCCTTATATAGTGAACTTAAACGTTTAATCAGAAGTTAGGCTTTAAAGCTAGTCCTATGAGAATATTTCCAGTTGCATAAAATACGTCAAATGTGAAATCAGTTCACAAATAAATATAGCAAAGAGCTTTTTAAAACCAGACTAGAGGCCAGGCGCGGTGGCTTACACCTGTAATCCCAGCACTTTGGGAGGCTGAGGCGGGCAGATCACAAGGTCAAGAGATCAAGATCATCCTGGCCAACATGGTGAAACCCTGTCTCTACTAAAAATACAAAAATTAGCTGGGCGTGGTGGTGCACACCTGTAGTCCCAGCTACTTGGGAGGCTGAGGCAGGAGAATCACTTGAACCTGGGAGGCGGATGTTGCAGTGAGCTGAGATCACACCACTGCACTCCAGCCTGGCGACAAAGCGAGACTCCATCTCAAAAAAAACCAGACTAGAACTATTATGTTAATTCAGTTAGGAGTTATAGATTTAAGTATTAGTACAAATTCTTTAACTGATGTTT',\n",
       " 'AGTTGAGAACCCTAAAATAGTTATCTAATTAAATTAAAGATTTTTAGGGTTTCTTGCTTAAGTTTATAGTTTTAAGAAGTATTTATTTATTTATTTATTTATTGAGGTGGAGTCTCGCTCTGTTGTCCAGGCTGGAGTGCCGTGGTGTGATCTTGGCTCACTGCAAGCTCCGCCTCCTGGGTTCATGCCATTCTTCTGCCTGAGCCTCCTGAGTAGCTGGGACTACAGGCGCCCACCACCACGCCCAGCTAATTTTTTGTATTTTTAGTAGAGACAGGGTTTCACCGTGTTAGCCAGGGTGGTCTTGATCTCCTGACCTCATGATCCACCTGCCTTGGCCTCCCAAAGTGCTGGGATTACAGGCATGAGCCACTGTGCCCAGCCTCAGTTTATATTTTTAAGGACATTCCTACCTAAAACACCAGTATGATAAATTAAGACAATTATTCTGAATTTTTTCTGAGGATGGCTTGCCTTTTGTTACCTTGTAAGATCCCTTTAACGTTTAATCAGAAGTTAGGCTTTAAAGCTAGTCCTATGAGAATATTTCCAGTTGCATAAAATACGTCAAATGTGAAATCAGTTCACAAATAAATATAGCAAAGAGCTTTTTAAAACCAGACTAGAGGCCAGGCGCGGTGGCTTACACCTGTAATCCCAGCACTTTGGGAGGCTGAGGCGGGCAGATCACAAGGTCAAGAGATCAAGATCATCCTGGCCAACATGGTGAAACCCTGTCTCTACTAAAAATACAAAAATTAGCTGGGCGTGGTGGTGCACACCTGTAGTCCCAGCTACTTGGGAGGCTGAGGCAGGAGAATCACTTGAACCTGGGAGGCGGATGTTGCAGTGAGCTGAGATCACACCACTGCACTCCAGCCTGGCGACAAAGCGAGACTCCATCTCAAAAAAAACCAGACTAGAACTATTATGTTAATTCAGTTAGGAGTTATAGATTTAAGTATTAGTACAAATTCTTTAACTGATGTTTTTGAAGTAT',\n",
       " [489, 499]]"
      ]
     },
     "execution_count": 26,
     "metadata": {},
     "output_type": "execute_result"
    }
   ],
   "source": [
    "sequences_i"
   ]
  },
  {
   "cell_type": "code",
   "execution_count": 6,
   "id": "c80c9000",
   "metadata": {},
   "outputs": [
    {
     "data": {
      "text/plain": [
       "'CCCTAAAATAGTTATCTAATTAAATTAAAGATTTTTAGGGTTTCTTGCTTAAGTTTATAGTTTTAAGAAGTATTTATTTATTTATTTATTTATTGAGGTGGAGTCTCGCTCTGTTGTCCAGGCTGGAGTGCCGTGGTGTGATCTTGGCTCACTGCAAGCTCCGCCTCCTGGGTTCATGCCATTCTTCTGCCTGAGCCTCCTGAGTAGCTGGGACTACAGGCGCCCACCACCACGCCCAGCTAATTTTTTGTATTTTTAGTAGAGACAGGGTTTCACCGTGTTAGCCAGGGTGGTCTTGATCTCCTGACCTCATGATCCACCTGCCTTGGCCTCCCAAAGTGCTGGGATTACAGGCATGAGCCACTGTGCCCAGCCTCAGTTTATATTTTTAAGGACATTCCTACCTAAAACACCAGTATGATAAATTAAGACAATTATTCTGAATTTTTTCTGAGGATGGCTTGCCTTTTGTTACCTTGTAAGATCCCTTTCCCTTATATAGTGAACTTAAACGTTTAATCAGAAGTTAGGCTTTAAAGCTAGTCCTATGAGAATATTTCCAGTTGCATAAAATACGTCAAATGTGAAATCAGTTCACAAATAAATATAGCAAAGAGCTTTTTAAAACCAGACTAGAGGCCAGGCGCGGTGGCTTACACCTGTAATCCCAGCACTTTGGGAGGCTGAGGCGGGCAGATCACAAGGTCAAGAGATCAAGATCATCCTGGCCAACATGGTGAAACCCTGTCTCTACTAAAAATACAAAAATTAGCTGGGCGTGGTGGTGCACACCTGTAGTCCCAGCTACTTGGGAGGCTGAGGCAGGAGAATCACTTGAACCTGGGAGGCGGATGTTGCAGTGAGCTGAGATCACACCACTGCACTCCAGCCTGGCGACAAAGCGAGACTCCATCTCAAAAAAAACCAGACTAGAACTATTATGTTAATTCAGTTAGGAGTTATAGATTTAAGTATTAGTACAAATTCTTTAACTGATGTT'"
      ]
     },
     "execution_count": 6,
     "metadata": {},
     "output_type": "execute_result"
    }
   ],
   "source": [
    "pysam.Fastafile(seq_file).fetch(seq_names[0], 0, seq_length).upper()"
   ]
  },
  {
   "cell_type": "code",
   "execution_count": null,
   "id": "f35d7582",
   "metadata": {},
   "outputs": [],
   "source": [
    "input_sequences[x for x in input_sequences. if f'{var_index}_{shift}{revcomp_annot}_{ii}' in x]"
   ]
  },
  {
   "cell_type": "code",
   "execution_count": 44,
   "id": "8be367ad",
   "metadata": {
    "scrolled": true
   },
   "outputs": [
    {
     "name": "stdout",
     "output_type": "stream",
     "text": [
      "var_index = 0 \tshift = 0  \tstart of variant: TCCCTTATAT \tend of variant: TAGTGAACTT\n",
      "var_index = 0 \tshift = 0  \tstart of variant: TAACGTTTAA \tend of variant: ATCAGAAGTT\n",
      "var_index = 1 \tshift = 0  \tstart of variant: AATTGATAAG \tend of variant: GCCACTGACT\n",
      "var_index = 1 \tshift = 0  \tstart of variant: AGACTGACCA \tend of variant: AAGAAAATAA\n",
      "var_index = 2 \tshift = 0  \tstart of variant: TGCATAGTGG \tend of variant: GTGCAATAAA\n",
      "var_index = 2 \tshift = 0  \tstart of variant: TATACGTGTG \tend of variant: GCATGTGTCT\n",
      "var_index = 3 \tshift = 0  \tstart of variant: TCTGCCCTCT \tend of variant: TTGGGTTTTT\n",
      "var_index = 3 \tshift = 0  \tstart of variant: TTGGAAGCTC \tend of variant: CCATGATGTC\n",
      "var_index = 4 \tshift = 0  \tstart of variant: GAGTTAGAGA \tend of variant: AAGTGGATGC\n",
      "var_index = 4 \tshift = 0  \tstart of variant: GCTTGTGTAG \tend of variant: GTAGATAAAT\n",
      "var_index = 5 \tshift = 0  \tstart of variant: GCATCTTCCA \tend of variant: ACCAATATAA\n",
      "var_index = 5 \tshift = 0  \tstart of variant: GGTTGTTTTG \tend of variant: GTCTACATTA\n",
      "var_index = 6 \tshift = 0  \tstart of variant: AATATTTTCT \tend of variant: TAATTTTTCT\n",
      "var_index = 6 \tshift = 0  \tstart of variant: AGGATCATTT \tend of variant: TAAAGTTATG\n",
      "var_index = 7 \tshift = 0  \tstart of variant: ACTAGCATTT \tend of variant: TAATAAAACT\n",
      "var_index = 7 \tshift = 0  \tstart of variant: ATCTCTACTA \tend of variant: ACTAATTATT\n",
      "var_index = 8 \tshift = 0  \tstart of variant: TAATACTTCT \tend of variant: TTTACAAGAT\n",
      "var_index = 8 \tshift = 0  \tstart of variant: TATTGAGAAG \tend of variant: GTTGCCTTTT\n",
      "var_index = 9 \tshift = 0  \tstart of variant: TCAACTAATT \tend of variant: TTTGTATTTT\n",
      "var_index = 9 \tshift = 0  \tstart of variant: TAGTAGGGAT \tend of variant: TGGGGTTTCA\n",
      "var_index = 10 \tshift = 0  \tstart of variant: TCATTGTGTG \tend of variant: GGTCTAAGGA\n",
      "var_index = 10 \tshift = 0  \tstart of variant: TAACCGGGGT \tend of variant: TACAGATGTC\n",
      "var_index = 11 \tshift = 0  \tstart of variant: TAATTATTCT \tend of variant: TGTCAACACC\n",
      "var_index = 11 \tshift = 0  \tstart of variant: TGCTGGACGT \tend of variant: TCCTGTAATT\n",
      "var_index = 12 \tshift = 0  \tstart of variant: CATGACCAAC \tend of variant: CACTATGGGC\n",
      "var_index = 12 \tshift = 0  \tstart of variant: CGAGCTTAAT \tend of variant: TTTTACTAAT\n",
      "var_index = 13 \tshift = 0  \tstart of variant: TTGATTGTTT \tend of variant: TCTGGAGTTC\n",
      "var_index = 13 \tshift = 0  \tstart of variant: TGGGTTGATT \tend of variant: TTTTTCTGGA\n",
      "var_index = 14 \tshift = 0  \tstart of variant: TTATTTTAAG \tend of variant: GAGAAAAGAA\n",
      "var_index = 14 \tshift = 0  \tstart of variant: TAATGTTAAG \tend of variant: GTTAGAAGGT\n",
      "var_index = 15 \tshift = 0  \tstart of variant: TGGGCACAGT \tend of variant: TGTACACTAC\n",
      "var_index = 15 \tshift = 0  \tstart of variant: TCAGATGATA \tend of variant: AGGTGCATCG\n",
      "var_index = 16 \tshift = 0  \tstart of variant: GCCTTGGAGG \tend of variant: GGACTCCTTT\n",
      "var_index = 16 \tshift = 0  \tstart of variant: GTGGGCTTAC \tend of variant: CAAGGTTGAG\n",
      "var_index = 17 \tshift = 0  \tstart of variant: CGTTACTGAT \tend of variant: TGCAGGGACG\n",
      "var_index = 17 \tshift = 0  \tstart of variant: CGGTGCGGAC \tend of variant: CCAGTCAGGC\n",
      "var_index = 18 \tshift = 0  \tstart of variant: AGAGTAACAG \tend of variant: GATGAGTTTC\n",
      "var_index = 18 \tshift = 0  \tstart of variant: AATATGTCAT \tend of variant: TTAAGAAAGT\n",
      "var_index = 19 \tshift = 0  \tstart of variant: TGAACCAGGG \tend of variant: GAGGTGGAGG\n",
      "var_index = 19 \tshift = 0  \tstart of variant: TTGTAGTCAG \tend of variant: GCAGAGATCA\n",
      "var_index = 20 \tshift = 0  \tstart of variant: GTACAGTGAT \tend of variant: TATCTGGAGA\n",
      "var_index = 20 \tshift = 0  \tstart of variant: GAAGCAACAA \tend of variant: ACATTTGCAG\n",
      "var_index = 21 \tshift = 0  \tstart of variant: TCCCTCCCTC \tend of variant: CCCCACCTGT\n",
      "var_index = 21 \tshift = 0  \tstart of variant: TCACCCCTCT \tend of variant: TGCCTGTGGT\n",
      "var_index = 22 \tshift = 0  \tstart of variant: ACACCTGAAG \tend of variant: GTCCTGTTAA\n",
      "var_index = 22 \tshift = 0  \tstart of variant: AAATAGGTGA \tend of variant: ATTCTTTTTG\n",
      "var_index = 23 \tshift = 0  \tstart of variant: TCACTCTCTC \tend of variant: CCCTCTGTGT\n",
      "var_index = 23 \tshift = 0  \tstart of variant: TACCCCCTTC \tend of variant: CTCAGAGTGG\n",
      "var_index = 24 \tshift = 0  \tstart of variant: GCTAGTCTCA \tend of variant: ACCCCTAACA\n",
      "var_index = 24 \tshift = 0  \tstart of variant: GGTCCACCTG \tend of variant: GGCCAGGCCC\n",
      "var_index = 25 \tshift = 0  \tstart of variant: CTCCAAGAAA \tend of variant: AGTCTATTTA\n",
      "var_index = 25 \tshift = 0  \tstart of variant: CTAAACACCT \tend of variant: TAATATTTTC\n",
      "var_index = 26 \tshift = 0  \tstart of variant: CCCAGGTAGA \tend of variant: AGTGGCTTCC\n",
      "var_index = 26 \tshift = 0  \tstart of variant: CCATATGCGC \tend of variant: CTGTATTTCA\n",
      "var_index = 27 \tshift = 0  \tstart of variant: GGGAAACTGG \tend of variant: GCATCTCTGG\n",
      "var_index = 27 \tshift = 0  \tstart of variant: GTTGACAGGT \tend of variant: TTGTGGGAGA\n",
      "var_index = 28 \tshift = 0  \tstart of variant: AATGTTAGTT \tend of variant: TTTGCCTTTA\n",
      "var_index = 28 \tshift = 0  \tstart of variant: AATAGGTAAA \tend of variant: ATATTCTCAA\n",
      "var_index = 29 \tshift = 0  \tstart of variant: CTAAGCTATG \tend of variant: GGTTTCCTCT\n",
      "var_index = 29 \tshift = 0  \tstart of variant: CTCCGTAAAG \tend of variant: GTCCGATGCC\n",
      "var_index = 30 \tshift = 0  \tstart of variant: TCATGCCATA \tend of variant: ATCTAATTGG\n",
      "var_index = 30 \tshift = 0  \tstart of variant: TATCTAAAAC \tend of variant: CTTAGCATGT\n",
      "var_index = 31 \tshift = 0  \tstart of variant: TTCATTACTC \tend of variant: CATTGCTAAA\n",
      "var_index = 31 \tshift = 0  \tstart of variant: TTAAGCTCAG \tend of variant: GTTCATAAAC\n",
      "var_index = 32 \tshift = 0  \tstart of variant: CTCCCCCCTT \tend of variant: TCTTTCTTTC\n",
      "var_index = 32 \tshift = 0  \tstart of variant: CTCCTTCCTT \tend of variant: TCCTTTCTCC\n",
      "var_index = 33 \tshift = 0  \tstart of variant: TTTTTGTATT \tend of variant: TTTTAGTAGA\n",
      "var_index = 33 \tshift = 0  \tstart of variant: TACAGGATTT \tend of variant: TCACCATGTT\n",
      "var_index = 34 \tshift = 0  \tstart of variant: CTAACTCCAG \tend of variant: GGTGGTTAGC\n",
      "var_index = 34 \tshift = 0  \tstart of variant: CTCAGAATTG \tend of variant: GTATTGCAGT\n",
      "var_index = 35 \tshift = 0  \tstart of variant: TTCTATTCAA \tend of variant: ATTGCTTTTT\n",
      "var_index = 35 \tshift = 0  \tstart of variant: TTTTTTTTTT \tend of variant: TAACAGCACT\n",
      "var_index = 36 \tshift = 0  \tstart of variant: TAGGTTGTGA \tend of variant: AAAATTTTCT\n",
      "var_index = 36 \tshift = 0  \tstart of variant: TCCATTTTGT \tend of variant: TAGGTTGCGT\n",
      "var_index = 37 \tshift = 0  \tstart of variant: ACCAGGCAGC \tend of variant: CCCCTCTCAA\n",
      "var_index = 37 \tshift = 0  \tstart of variant: AGTGGTGGGA \tend of variant: AAGAATAGAC\n",
      "var_index = 38 \tshift = 0  \tstart of variant: GCTTAGCGGG \tend of variant: GGCTGGAGAG\n",
      "var_index = 38 \tshift = 0  \tstart of variant: GCCTAGACAG \tend of variant: GAGCCGGGTG\n",
      "var_index = 39 \tshift = 0  \tstart of variant: TGGAACTCCT \tend of variant: TGGACTCACA\n",
      "var_index = 39 \tshift = 0  \tstart of variant: TAATCCTCCC \tend of variant: CACCTTGGCC\n",
      "var_index = 40 \tshift = 0  \tstart of variant: TGTTCTTAGA \tend of variant: AAGGCTCAGG\n",
      "var_index = 40 \tshift = 0  \tstart of variant: TCTAAACTAG \tend of variant: GGAATGTGGG\n",
      "var_index = 41 \tshift = 0  \tstart of variant: CCAGGAGCAA \tend of variant: ACACTAAAGT\n",
      "var_index = 41 \tshift = 0  \tstart of variant: CTTATGAGCA \tend of variant: AAGAGCCTTA\n",
      "var_index = 42 \tshift = 0  \tstart of variant: TTGTCCACCT \tend of variant: TTAGACACAG\n",
      "var_index = 42 \tshift = 0  \tstart of variant: TACTGGGCTC \tend of variant: CCTCTGACCC\n",
      "var_index = 43 \tshift = 0  \tstart of variant: CTTTCACAGG \tend of variant: GCCACTATTG\n",
      "var_index = 43 \tshift = 0  \tstart of variant: CTTTTACCTC \tend of variant: CAATTGCCCT\n",
      "var_index = 44 \tshift = 0  \tstart of variant: TTAAAGCATT \tend of variant: TCTTTAAATC\n",
      "var_index = 44 \tshift = 0  \tstart of variant: TTCTATACAA \tend of variant: ATGATAAATG\n",
      "var_index = 45 \tshift = 0  \tstart of variant: ATAGGTTATG \tend of variant: GATATTTTAG\n",
      "var_index = 45 \tshift = 0  \tstart of variant: ACCAAAAGTT \tend of variant: TTATTATGTT\n",
      "var_index = 46 \tshift = 0  \tstart of variant: GCAGGGTCAT \tend of variant: TAGGACAATA\n",
      "var_index = 46 \tshift = 0  \tstart of variant: GTGGAGGGAA \tend of variant: AGGTCAGCAG\n",
      "var_index = 47 \tshift = 0  \tstart of variant: CTCAAGTGAT \tend of variant: TCCTCCCACC\n",
      "var_index = 47 \tshift = 0  \tstart of variant: CCAGCCTCCC \tend of variant: CAAGCAGCTG\n",
      "var_index = 48 \tshift = 0  \tstart of variant: ATATATTCAG \tend of variant: GTTATGTTTA\n",
      "var_index = 48 \tshift = 0  \tstart of variant: ATTTGGATTC \tend of variant: CATACCAAAT\n",
      "var_index = 49 \tshift = 0  \tstart of variant: ATCATTGGGA \tend of variant: ATTATTTTTA\n",
      "var_index = 49 \tshift = 0  \tstart of variant: AATTAAAGAT \tend of variant: TTCTTGGATC\n"
     ]
    }
   ],
   "source": [
    "# Get sequences\n",
    "\n",
    "sequences = {}\n",
    "\n",
    "shift_by = str(0)\n",
    "\n",
    "for var_index in variants.index:\n",
    "    for shift in shift_by.split(' '):\n",
    "        for revcomp in ['']:\n",
    "\n",
    "            if 'SVLEN' in variants.columns:\n",
    "                \n",
    "                SVTYPE = variants.iloc[var_index].SVTYPE\n",
    "                SVLEN = variants.iloc[var_index].SVLEN\n",
    "                if SVTYPE == 'DUP':\n",
    "                    SVLEN = 2*SVLEN\n",
    "            else:\n",
    "                SVTYPE, SVLEN = '-', '0'\n",
    "\n",
    "\n",
    "            if SVTYPE == 'BND':\n",
    "                alleles = {0: 'REF1', \n",
    "                           1: 'REF2',\n",
    "                           2: 'ALT'}\n",
    "            else:\n",
    "                alleles = {0: 'REF', \n",
    "                           1: 'ALT'}\n",
    "\n",
    "\n",
    "            for allele in range(len(alleles)):\n",
    "                variant_id = f'{var_index}_{shift}{revcomp}_{allele}'\n",
    "\n",
    "                seq_name = [x for x in seq_names if variant_id in x][0]\n",
    "\n",
    "                position = int(seq_name.split('[')[1].split(']')[0].split('_')[allele])\n",
    "\n",
    "                sequence = pysam.Fastafile(seq_file).fetch(seq_name, 0, seq_length).upper()\n",
    "\n",
    "                sequences.update({str(var_index)+'_'+alleles[allele]:sequence})\n",
    "\n",
    "                # Look at the region where the variant is in that sequence\n",
    "                print('var_index =',var_index, '\\tshift =', shift, revcomp,\n",
    "                      '\\tstart of variant:', sequence[position:position+SVLEN][:10],\n",
    "                      '\\tend of variant:', sequence[position:position+SVLEN][-10:])"
   ]
  },
  {
   "cell_type": "markdown",
   "id": "0d924119",
   "metadata": {},
   "source": [
    "## Run DeepSEA"
   ]
  },
  {
   "cell_type": "code",
   "execution_count": 14,
   "id": "a3048718",
   "metadata": {},
   "outputs": [],
   "source": [
    "path = '../DeepSEA/'\n",
    "\n",
    "import sys\n",
    "sys.path.insert(0, path)\n",
    "from selene_sdk.utils import load_path\n",
    "from selene_sdk.utils import parse_configs_and_run"
   ]
  },
  {
   "cell_type": "code",
   "execution_count": 51,
   "id": "1cf91d75",
   "metadata": {},
   "outputs": [],
   "source": [
    "configs = load_path(f'{path}get_predictions.yml')"
   ]
  },
  {
   "cell_type": "code",
   "execution_count": 1,
   "id": "ba8a8414",
   "metadata": {},
   "outputs": [
    {
     "name": "stdout",
     "output_type": "stream",
     "text": [
      "---\r\n",
      "ops: [analyze]\r\n",
      "model: {\r\n",
      "    path: {path_to_main_directory}DeepSEA/deeperdeepsea.py, \r\n",
      "    class: DeeperDeepSEA,\r\n",
      "    class_args: {\r\n",
      "        sequence_length: 1000,\r\n",
      "        n_targets: 919\r\n",
      "    },\r\n",
      "#     non_strand_specific: mean\r\n",
      "}\r\n",
      "analyze_sequences: !obj:selene_sdk.predict.AnalyzeSequences {\r\n",
      "    trained_model_path: {path_to_main_directory}DeepSEA/example_deeperdeepsea.pth.tar,\r\n",
      "    sequence_length: 1000,\r\n",
      "    features: !obj:selene_sdk.utils.load_features_list {\r\n",
      "        input_path: {path_to_main_directory}Akita_variant_scoring/DeepSEA/distinct_features.txt \r\n",
      "    },\r\n",
      "    batch_size: 64,\r\n",
      "    use_cuda: False,\r\n",
      "    reference_sequence: !obj:selene_sdk.sequences.Genome {\r\n",
      "        input_path: {path_to_main_directory}data/hg38.fa,\r\n",
      "        blacklist_regions: hg38\r\n",
      "    },\r\n",
      "    write_mem_limit: 75000\r\n",
      "}\r\n",
      "prediction: {\r\n",
      "    input_path: {path_to_main_directory}test_data/custom_perturbations/output/CTCF_del_sequences.fa,\r\n",
      "    output_dir: {path_to_main_directory}DeepSEA/output,\r\n",
      "    output_format: tsv\r\n",
      "}\r\n",
      "random_seed: 123\r\n",
      "...\r\n"
     ]
    }
   ],
   "source": [
    "# Adjust the path to the main SuPreMo directory in get_predictions.yml \n",
    "\n",
    "! cat ../DeepSEA/get_predictions.yml"
   ]
  },
  {
   "cell_type": "code",
   "execution_count": null,
   "id": "a29e74ad",
   "metadata": {},
   "outputs": [],
   "source": [
    "# Run DeepSEA\n",
    "parse_configs_and_run(configs)"
   ]
  },
  {
   "cell_type": "markdown",
   "id": "544ad083",
   "metadata": {},
   "source": [
    "## Read DeepSEA output"
   ]
  },
  {
   "cell_type": "code",
   "execution_count": 12,
   "id": "86361e17",
   "metadata": {},
   "outputs": [
    {
     "name": "stdout",
     "output_type": "stream",
     "text": [
      "CTCF_del_sequences_predictions.tsv  score_var_results_sequences_predictions.tsv\r\n"
     ]
    }
   ],
   "source": [
    "ls ../DeepSEA/output/"
   ]
  },
  {
   "cell_type": "code",
   "execution_count": 15,
   "id": "ab98a0d4",
   "metadata": {},
   "outputs": [
    {
     "data": {
      "text/html": [
       "<div>\n",
       "<style scoped>\n",
       "    .dataframe tbody tr th:only-of-type {\n",
       "        vertical-align: middle;\n",
       "    }\n",
       "\n",
       "    .dataframe tbody tr th {\n",
       "        vertical-align: top;\n",
       "    }\n",
       "\n",
       "    .dataframe thead th {\n",
       "        text-align: right;\n",
       "    }\n",
       "</style>\n",
       "<table border=\"1\" class=\"dataframe\">\n",
       "  <thead>\n",
       "    <tr style=\"text-align: right;\">\n",
       "      <th></th>\n",
       "      <th>index</th>\n",
       "      <th>name</th>\n",
       "      <th>8988T|DNase|None</th>\n",
       "      <th>A549|ATF3|EtOH_0.02pct</th>\n",
       "      <th>A549|BCL3|EtOH_0.02pct</th>\n",
       "      <th>A549|BHLHE40|None</th>\n",
       "      <th>A549|CEBPB|None</th>\n",
       "      <th>A549|CREB1|DEX_100nM</th>\n",
       "      <th>A549|CTCF|DEX_100nM</th>\n",
       "      <th>A549|CTCF|EtOH_0.02pct</th>\n",
       "      <th>...</th>\n",
       "      <th>U2OS|SETDB1|None</th>\n",
       "      <th>U87|NRSF|None</th>\n",
       "      <th>U87|Pol2-4H8|None</th>\n",
       "      <th>Urothelia|DNase|None</th>\n",
       "      <th>Urothelia|DNase|UT189</th>\n",
       "      <th>WERI-Rb-1|CTCF|None</th>\n",
       "      <th>WERI-Rb-1|DNase|None</th>\n",
       "      <th>WI-38|CTCF|None</th>\n",
       "      <th>WI-38|DNase|4OHTAM_20nM_72hr</th>\n",
       "      <th>WI-38|DNase|None</th>\n",
       "    </tr>\n",
       "  </thead>\n",
       "  <tbody>\n",
       "    <tr>\n",
       "      <th>0</th>\n",
       "      <td>0</td>\n",
       "      <td>0_-1_0_[490_500]</td>\n",
       "      <td>0.000961</td>\n",
       "      <td>0.000053</td>\n",
       "      <td>0.000504</td>\n",
       "      <td>0.000038</td>\n",
       "      <td>0.000364</td>\n",
       "      <td>0.000048</td>\n",
       "      <td>0.000062</td>\n",
       "      <td>0.000057</td>\n",
       "      <td>...</td>\n",
       "      <td>0.0656</td>\n",
       "      <td>0.000012</td>\n",
       "      <td>0.00210</td>\n",
       "      <td>0.000177</td>\n",
       "      <td>0.000475</td>\n",
       "      <td>0.000033</td>\n",
       "      <td>0.001050</td>\n",
       "      <td>0.000041</td>\n",
       "      <td>0.00118</td>\n",
       "      <td>0.000292</td>\n",
       "    </tr>\n",
       "    <tr>\n",
       "      <th>1</th>\n",
       "      <td>1</td>\n",
       "      <td>0_-1_1_[490_500]</td>\n",
       "      <td>0.001710</td>\n",
       "      <td>0.000063</td>\n",
       "      <td>0.000731</td>\n",
       "      <td>0.000053</td>\n",
       "      <td>0.000287</td>\n",
       "      <td>0.000057</td>\n",
       "      <td>0.000068</td>\n",
       "      <td>0.000063</td>\n",
       "      <td>...</td>\n",
       "      <td>0.0420</td>\n",
       "      <td>0.000021</td>\n",
       "      <td>0.00332</td>\n",
       "      <td>0.000224</td>\n",
       "      <td>0.000666</td>\n",
       "      <td>0.000036</td>\n",
       "      <td>0.001660</td>\n",
       "      <td>0.000053</td>\n",
       "      <td>0.00116</td>\n",
       "      <td>0.000253</td>\n",
       "    </tr>\n",
       "    <tr>\n",
       "      <th>2</th>\n",
       "      <td>2</td>\n",
       "      <td>0_0_0_[489_499]</td>\n",
       "      <td>0.001510</td>\n",
       "      <td>0.000075</td>\n",
       "      <td>0.000777</td>\n",
       "      <td>0.000048</td>\n",
       "      <td>0.000408</td>\n",
       "      <td>0.000057</td>\n",
       "      <td>0.000075</td>\n",
       "      <td>0.000064</td>\n",
       "      <td>...</td>\n",
       "      <td>0.0655</td>\n",
       "      <td>0.000021</td>\n",
       "      <td>0.00316</td>\n",
       "      <td>0.000207</td>\n",
       "      <td>0.000635</td>\n",
       "      <td>0.000032</td>\n",
       "      <td>0.001500</td>\n",
       "      <td>0.000051</td>\n",
       "      <td>0.00181</td>\n",
       "      <td>0.000421</td>\n",
       "    </tr>\n",
       "    <tr>\n",
       "      <th>3</th>\n",
       "      <td>3</td>\n",
       "      <td>0_0_1_[489_499]</td>\n",
       "      <td>0.001190</td>\n",
       "      <td>0.000066</td>\n",
       "      <td>0.000607</td>\n",
       "      <td>0.000051</td>\n",
       "      <td>0.000327</td>\n",
       "      <td>0.000052</td>\n",
       "      <td>0.000076</td>\n",
       "      <td>0.000066</td>\n",
       "      <td>...</td>\n",
       "      <td>0.0732</td>\n",
       "      <td>0.000021</td>\n",
       "      <td>0.00204</td>\n",
       "      <td>0.000188</td>\n",
       "      <td>0.000525</td>\n",
       "      <td>0.000035</td>\n",
       "      <td>0.000900</td>\n",
       "      <td>0.000061</td>\n",
       "      <td>0.00108</td>\n",
       "      <td>0.000257</td>\n",
       "    </tr>\n",
       "    <tr>\n",
       "      <th>4</th>\n",
       "      <td>4</td>\n",
       "      <td>0_0_revcomp_0_[489_499]</td>\n",
       "      <td>0.003010</td>\n",
       "      <td>0.000419</td>\n",
       "      <td>0.004880</td>\n",
       "      <td>0.000075</td>\n",
       "      <td>0.000839</td>\n",
       "      <td>0.000091</td>\n",
       "      <td>0.000216</td>\n",
       "      <td>0.000138</td>\n",
       "      <td>...</td>\n",
       "      <td>0.0263</td>\n",
       "      <td>0.000018</td>\n",
       "      <td>0.01730</td>\n",
       "      <td>0.000548</td>\n",
       "      <td>0.001700</td>\n",
       "      <td>0.000023</td>\n",
       "      <td>0.001780</td>\n",
       "      <td>0.000065</td>\n",
       "      <td>0.00882</td>\n",
       "      <td>0.003670</td>\n",
       "    </tr>\n",
       "    <tr>\n",
       "      <th>5</th>\n",
       "      <td>5</td>\n",
       "      <td>0_0_revcomp_1_[489_499]</td>\n",
       "      <td>0.004340</td>\n",
       "      <td>0.001040</td>\n",
       "      <td>0.011200</td>\n",
       "      <td>0.000160</td>\n",
       "      <td>0.001220</td>\n",
       "      <td>0.000331</td>\n",
       "      <td>0.000385</td>\n",
       "      <td>0.000241</td>\n",
       "      <td>...</td>\n",
       "      <td>0.0239</td>\n",
       "      <td>0.000066</td>\n",
       "      <td>0.05910</td>\n",
       "      <td>0.000703</td>\n",
       "      <td>0.002540</td>\n",
       "      <td>0.000050</td>\n",
       "      <td>0.003780</td>\n",
       "      <td>0.000123</td>\n",
       "      <td>0.01160</td>\n",
       "      <td>0.004400</td>\n",
       "    </tr>\n",
       "    <tr>\n",
       "      <th>6</th>\n",
       "      <td>6</td>\n",
       "      <td>0_1_0_[488_498]</td>\n",
       "      <td>0.001490</td>\n",
       "      <td>0.000065</td>\n",
       "      <td>0.000601</td>\n",
       "      <td>0.000049</td>\n",
       "      <td>0.000342</td>\n",
       "      <td>0.000065</td>\n",
       "      <td>0.000086</td>\n",
       "      <td>0.000072</td>\n",
       "      <td>...</td>\n",
       "      <td>0.1230</td>\n",
       "      <td>0.000025</td>\n",
       "      <td>0.00274</td>\n",
       "      <td>0.000202</td>\n",
       "      <td>0.000591</td>\n",
       "      <td>0.000056</td>\n",
       "      <td>0.001660</td>\n",
       "      <td>0.000070</td>\n",
       "      <td>0.00128</td>\n",
       "      <td>0.000327</td>\n",
       "    </tr>\n",
       "    <tr>\n",
       "      <th>7</th>\n",
       "      <td>7</td>\n",
       "      <td>0_1_1_[488_498]</td>\n",
       "      <td>0.001360</td>\n",
       "      <td>0.000059</td>\n",
       "      <td>0.000535</td>\n",
       "      <td>0.000051</td>\n",
       "      <td>0.000270</td>\n",
       "      <td>0.000055</td>\n",
       "      <td>0.000082</td>\n",
       "      <td>0.000077</td>\n",
       "      <td>...</td>\n",
       "      <td>0.0617</td>\n",
       "      <td>0.000018</td>\n",
       "      <td>0.00259</td>\n",
       "      <td>0.000219</td>\n",
       "      <td>0.000603</td>\n",
       "      <td>0.000038</td>\n",
       "      <td>0.000921</td>\n",
       "      <td>0.000057</td>\n",
       "      <td>0.00118</td>\n",
       "      <td>0.000324</td>\n",
       "    </tr>\n",
       "    <tr>\n",
       "      <th>8</th>\n",
       "      <td>8</td>\n",
       "      <td>1_-1_0_[490_500]</td>\n",
       "      <td>0.001060</td>\n",
       "      <td>0.000357</td>\n",
       "      <td>0.001450</td>\n",
       "      <td>0.000073</td>\n",
       "      <td>0.000326</td>\n",
       "      <td>0.000092</td>\n",
       "      <td>0.000094</td>\n",
       "      <td>0.000090</td>\n",
       "      <td>...</td>\n",
       "      <td>0.1210</td>\n",
       "      <td>0.000099</td>\n",
       "      <td>0.00586</td>\n",
       "      <td>0.000293</td>\n",
       "      <td>0.000779</td>\n",
       "      <td>0.000044</td>\n",
       "      <td>0.001070</td>\n",
       "      <td>0.000058</td>\n",
       "      <td>0.00149</td>\n",
       "      <td>0.000619</td>\n",
       "    </tr>\n",
       "    <tr>\n",
       "      <th>9</th>\n",
       "      <td>9</td>\n",
       "      <td>1_-1_1_[490_500]</td>\n",
       "      <td>0.001290</td>\n",
       "      <td>0.000421</td>\n",
       "      <td>0.001850</td>\n",
       "      <td>0.000095</td>\n",
       "      <td>0.000243</td>\n",
       "      <td>0.000121</td>\n",
       "      <td>0.000086</td>\n",
       "      <td>0.000084</td>\n",
       "      <td>...</td>\n",
       "      <td>0.2250</td>\n",
       "      <td>0.000161</td>\n",
       "      <td>0.00547</td>\n",
       "      <td>0.000334</td>\n",
       "      <td>0.000947</td>\n",
       "      <td>0.000040</td>\n",
       "      <td>0.000698</td>\n",
       "      <td>0.000064</td>\n",
       "      <td>0.00117</td>\n",
       "      <td>0.000511</td>\n",
       "    </tr>\n",
       "  </tbody>\n",
       "</table>\n",
       "<p>10 rows × 921 columns</p>\n",
       "</div>"
      ],
      "text/plain": [
       "   index                     name  8988T|DNase|None  A549|ATF3|EtOH_0.02pct  \\\n",
       "0      0         0_-1_0_[490_500]          0.000961                0.000053   \n",
       "1      1         0_-1_1_[490_500]          0.001710                0.000063   \n",
       "2      2          0_0_0_[489_499]          0.001510                0.000075   \n",
       "3      3          0_0_1_[489_499]          0.001190                0.000066   \n",
       "4      4  0_0_revcomp_0_[489_499]          0.003010                0.000419   \n",
       "5      5  0_0_revcomp_1_[489_499]          0.004340                0.001040   \n",
       "6      6          0_1_0_[488_498]          0.001490                0.000065   \n",
       "7      7          0_1_1_[488_498]          0.001360                0.000059   \n",
       "8      8         1_-1_0_[490_500]          0.001060                0.000357   \n",
       "9      9         1_-1_1_[490_500]          0.001290                0.000421   \n",
       "\n",
       "   A549|BCL3|EtOH_0.02pct  A549|BHLHE40|None  A549|CEBPB|None  \\\n",
       "0                0.000504           0.000038         0.000364   \n",
       "1                0.000731           0.000053         0.000287   \n",
       "2                0.000777           0.000048         0.000408   \n",
       "3                0.000607           0.000051         0.000327   \n",
       "4                0.004880           0.000075         0.000839   \n",
       "5                0.011200           0.000160         0.001220   \n",
       "6                0.000601           0.000049         0.000342   \n",
       "7                0.000535           0.000051         0.000270   \n",
       "8                0.001450           0.000073         0.000326   \n",
       "9                0.001850           0.000095         0.000243   \n",
       "\n",
       "   A549|CREB1|DEX_100nM  A549|CTCF|DEX_100nM  A549|CTCF|EtOH_0.02pct  ...  \\\n",
       "0              0.000048             0.000062                0.000057  ...   \n",
       "1              0.000057             0.000068                0.000063  ...   \n",
       "2              0.000057             0.000075                0.000064  ...   \n",
       "3              0.000052             0.000076                0.000066  ...   \n",
       "4              0.000091             0.000216                0.000138  ...   \n",
       "5              0.000331             0.000385                0.000241  ...   \n",
       "6              0.000065             0.000086                0.000072  ...   \n",
       "7              0.000055             0.000082                0.000077  ...   \n",
       "8              0.000092             0.000094                0.000090  ...   \n",
       "9              0.000121             0.000086                0.000084  ...   \n",
       "\n",
       "   U2OS|SETDB1|None  U87|NRSF|None  U87|Pol2-4H8|None  Urothelia|DNase|None  \\\n",
       "0            0.0656       0.000012            0.00210              0.000177   \n",
       "1            0.0420       0.000021            0.00332              0.000224   \n",
       "2            0.0655       0.000021            0.00316              0.000207   \n",
       "3            0.0732       0.000021            0.00204              0.000188   \n",
       "4            0.0263       0.000018            0.01730              0.000548   \n",
       "5            0.0239       0.000066            0.05910              0.000703   \n",
       "6            0.1230       0.000025            0.00274              0.000202   \n",
       "7            0.0617       0.000018            0.00259              0.000219   \n",
       "8            0.1210       0.000099            0.00586              0.000293   \n",
       "9            0.2250       0.000161            0.00547              0.000334   \n",
       "\n",
       "   Urothelia|DNase|UT189  WERI-Rb-1|CTCF|None  WERI-Rb-1|DNase|None  \\\n",
       "0               0.000475             0.000033              0.001050   \n",
       "1               0.000666             0.000036              0.001660   \n",
       "2               0.000635             0.000032              0.001500   \n",
       "3               0.000525             0.000035              0.000900   \n",
       "4               0.001700             0.000023              0.001780   \n",
       "5               0.002540             0.000050              0.003780   \n",
       "6               0.000591             0.000056              0.001660   \n",
       "7               0.000603             0.000038              0.000921   \n",
       "8               0.000779             0.000044              0.001070   \n",
       "9               0.000947             0.000040              0.000698   \n",
       "\n",
       "   WI-38|CTCF|None  WI-38|DNase|4OHTAM_20nM_72hr  WI-38|DNase|None  \n",
       "0         0.000041                       0.00118          0.000292  \n",
       "1         0.000053                       0.00116          0.000253  \n",
       "2         0.000051                       0.00181          0.000421  \n",
       "3         0.000061                       0.00108          0.000257  \n",
       "4         0.000065                       0.00882          0.003670  \n",
       "5         0.000123                       0.01160          0.004400  \n",
       "6         0.000070                       0.00128          0.000327  \n",
       "7         0.000057                       0.00118          0.000324  \n",
       "8         0.000058                       0.00149          0.000619  \n",
       "9         0.000064                       0.00117          0.000511  \n",
       "\n",
       "[10 rows x 921 columns]"
      ]
     },
     "execution_count": 15,
     "metadata": {},
     "output_type": "execute_result"
    }
   ],
   "source": [
    "path = '../DeepSEA/'\n",
    "deepsea_scores = pd.read_csv(f'{path}output/CTCF_del_sequences_predictions.tsv', sep = '\\t')\n",
    "deepsea_scores[:10]"
   ]
  },
  {
   "cell_type": "code",
   "execution_count": 16,
   "id": "4e862654",
   "metadata": {},
   "outputs": [
    {
     "name": "stderr",
     "output_type": "stream",
     "text": [
      "/pollard/home/ketringjoni/miniconda3/envs/CBTN_env/lib/python3.7/site-packages/ipykernel_launcher.py:7: FutureWarning: The default value of regex will change from True to False in a future version. In addition, single character regular expressions will *not* be treated as literal strings when regex=True.\n",
      "  import sys\n"
     ]
    },
    {
     "data": {
      "text/html": [
       "<div>\n",
       "<style scoped>\n",
       "    .dataframe tbody tr th:only-of-type {\n",
       "        vertical-align: middle;\n",
       "    }\n",
       "\n",
       "    .dataframe tbody tr th {\n",
       "        vertical-align: top;\n",
       "    }\n",
       "\n",
       "    .dataframe thead th {\n",
       "        text-align: right;\n",
       "    }\n",
       "</style>\n",
       "<table border=\"1\" class=\"dataframe\">\n",
       "  <thead>\n",
       "    <tr style=\"text-align: right;\">\n",
       "      <th></th>\n",
       "      <th>var_index</th>\n",
       "      <th>shift</th>\n",
       "      <th>seq</th>\n",
       "      <th>var_start_pos</th>\n",
       "      <th>var_end_pos</th>\n",
       "      <th>revcomp</th>\n",
       "      <th>8988T|DNase|None</th>\n",
       "      <th>A549|ATF3|EtOH_0.02pct</th>\n",
       "      <th>A549|BCL3|EtOH_0.02pct</th>\n",
       "      <th>A549|BHLHE40|None</th>\n",
       "      <th>...</th>\n",
       "      <th>U2OS|SETDB1|None</th>\n",
       "      <th>U87|NRSF|None</th>\n",
       "      <th>U87|Pol2-4H8|None</th>\n",
       "      <th>Urothelia|DNase|None</th>\n",
       "      <th>Urothelia|DNase|UT189</th>\n",
       "      <th>WERI-Rb-1|CTCF|None</th>\n",
       "      <th>WERI-Rb-1|DNase|None</th>\n",
       "      <th>WI-38|CTCF|None</th>\n",
       "      <th>WI-38|DNase|4OHTAM_20nM_72hr</th>\n",
       "      <th>WI-38|DNase|None</th>\n",
       "    </tr>\n",
       "  </thead>\n",
       "  <tbody>\n",
       "    <tr>\n",
       "      <th>0</th>\n",
       "      <td>0</td>\n",
       "      <td>-1</td>\n",
       "      <td>0</td>\n",
       "      <td>490</td>\n",
       "      <td>500</td>\n",
       "      <td>no</td>\n",
       "      <td>0.000961</td>\n",
       "      <td>0.000053</td>\n",
       "      <td>0.000504</td>\n",
       "      <td>0.000038</td>\n",
       "      <td>...</td>\n",
       "      <td>0.0656</td>\n",
       "      <td>0.000012</td>\n",
       "      <td>0.00210</td>\n",
       "      <td>0.000177</td>\n",
       "      <td>0.000475</td>\n",
       "      <td>0.000033</td>\n",
       "      <td>0.001050</td>\n",
       "      <td>0.000041</td>\n",
       "      <td>0.00118</td>\n",
       "      <td>0.000292</td>\n",
       "    </tr>\n",
       "    <tr>\n",
       "      <th>1</th>\n",
       "      <td>0</td>\n",
       "      <td>-1</td>\n",
       "      <td>1</td>\n",
       "      <td>490</td>\n",
       "      <td>500</td>\n",
       "      <td>no</td>\n",
       "      <td>0.001710</td>\n",
       "      <td>0.000063</td>\n",
       "      <td>0.000731</td>\n",
       "      <td>0.000053</td>\n",
       "      <td>...</td>\n",
       "      <td>0.0420</td>\n",
       "      <td>0.000021</td>\n",
       "      <td>0.00332</td>\n",
       "      <td>0.000224</td>\n",
       "      <td>0.000666</td>\n",
       "      <td>0.000036</td>\n",
       "      <td>0.001660</td>\n",
       "      <td>0.000053</td>\n",
       "      <td>0.00116</td>\n",
       "      <td>0.000253</td>\n",
       "    </tr>\n",
       "    <tr>\n",
       "      <th>2</th>\n",
       "      <td>0</td>\n",
       "      <td>0</td>\n",
       "      <td>0</td>\n",
       "      <td>489</td>\n",
       "      <td>499</td>\n",
       "      <td>no</td>\n",
       "      <td>0.001510</td>\n",
       "      <td>0.000075</td>\n",
       "      <td>0.000777</td>\n",
       "      <td>0.000048</td>\n",
       "      <td>...</td>\n",
       "      <td>0.0655</td>\n",
       "      <td>0.000021</td>\n",
       "      <td>0.00316</td>\n",
       "      <td>0.000207</td>\n",
       "      <td>0.000635</td>\n",
       "      <td>0.000032</td>\n",
       "      <td>0.001500</td>\n",
       "      <td>0.000051</td>\n",
       "      <td>0.00181</td>\n",
       "      <td>0.000421</td>\n",
       "    </tr>\n",
       "    <tr>\n",
       "      <th>3</th>\n",
       "      <td>0</td>\n",
       "      <td>0</td>\n",
       "      <td>1</td>\n",
       "      <td>489</td>\n",
       "      <td>499</td>\n",
       "      <td>no</td>\n",
       "      <td>0.001190</td>\n",
       "      <td>0.000066</td>\n",
       "      <td>0.000607</td>\n",
       "      <td>0.000051</td>\n",
       "      <td>...</td>\n",
       "      <td>0.0732</td>\n",
       "      <td>0.000021</td>\n",
       "      <td>0.00204</td>\n",
       "      <td>0.000188</td>\n",
       "      <td>0.000525</td>\n",
       "      <td>0.000035</td>\n",
       "      <td>0.000900</td>\n",
       "      <td>0.000061</td>\n",
       "      <td>0.00108</td>\n",
       "      <td>0.000257</td>\n",
       "    </tr>\n",
       "    <tr>\n",
       "      <th>4</th>\n",
       "      <td>0</td>\n",
       "      <td>0</td>\n",
       "      <td>0</td>\n",
       "      <td>489</td>\n",
       "      <td>499</td>\n",
       "      <td>yes</td>\n",
       "      <td>0.003010</td>\n",
       "      <td>0.000419</td>\n",
       "      <td>0.004880</td>\n",
       "      <td>0.000075</td>\n",
       "      <td>...</td>\n",
       "      <td>0.0263</td>\n",
       "      <td>0.000018</td>\n",
       "      <td>0.01730</td>\n",
       "      <td>0.000548</td>\n",
       "      <td>0.001700</td>\n",
       "      <td>0.000023</td>\n",
       "      <td>0.001780</td>\n",
       "      <td>0.000065</td>\n",
       "      <td>0.00882</td>\n",
       "      <td>0.003670</td>\n",
       "    </tr>\n",
       "    <tr>\n",
       "      <th>5</th>\n",
       "      <td>0</td>\n",
       "      <td>0</td>\n",
       "      <td>1</td>\n",
       "      <td>489</td>\n",
       "      <td>499</td>\n",
       "      <td>yes</td>\n",
       "      <td>0.004340</td>\n",
       "      <td>0.001040</td>\n",
       "      <td>0.011200</td>\n",
       "      <td>0.000160</td>\n",
       "      <td>...</td>\n",
       "      <td>0.0239</td>\n",
       "      <td>0.000066</td>\n",
       "      <td>0.05910</td>\n",
       "      <td>0.000703</td>\n",
       "      <td>0.002540</td>\n",
       "      <td>0.000050</td>\n",
       "      <td>0.003780</td>\n",
       "      <td>0.000123</td>\n",
       "      <td>0.01160</td>\n",
       "      <td>0.004400</td>\n",
       "    </tr>\n",
       "    <tr>\n",
       "      <th>6</th>\n",
       "      <td>0</td>\n",
       "      <td>1</td>\n",
       "      <td>0</td>\n",
       "      <td>488</td>\n",
       "      <td>498</td>\n",
       "      <td>no</td>\n",
       "      <td>0.001490</td>\n",
       "      <td>0.000065</td>\n",
       "      <td>0.000601</td>\n",
       "      <td>0.000049</td>\n",
       "      <td>...</td>\n",
       "      <td>0.1230</td>\n",
       "      <td>0.000025</td>\n",
       "      <td>0.00274</td>\n",
       "      <td>0.000202</td>\n",
       "      <td>0.000591</td>\n",
       "      <td>0.000056</td>\n",
       "      <td>0.001660</td>\n",
       "      <td>0.000070</td>\n",
       "      <td>0.00128</td>\n",
       "      <td>0.000327</td>\n",
       "    </tr>\n",
       "    <tr>\n",
       "      <th>7</th>\n",
       "      <td>0</td>\n",
       "      <td>1</td>\n",
       "      <td>1</td>\n",
       "      <td>488</td>\n",
       "      <td>498</td>\n",
       "      <td>no</td>\n",
       "      <td>0.001360</td>\n",
       "      <td>0.000059</td>\n",
       "      <td>0.000535</td>\n",
       "      <td>0.000051</td>\n",
       "      <td>...</td>\n",
       "      <td>0.0617</td>\n",
       "      <td>0.000018</td>\n",
       "      <td>0.00259</td>\n",
       "      <td>0.000219</td>\n",
       "      <td>0.000603</td>\n",
       "      <td>0.000038</td>\n",
       "      <td>0.000921</td>\n",
       "      <td>0.000057</td>\n",
       "      <td>0.00118</td>\n",
       "      <td>0.000324</td>\n",
       "    </tr>\n",
       "    <tr>\n",
       "      <th>8</th>\n",
       "      <td>1</td>\n",
       "      <td>-1</td>\n",
       "      <td>0</td>\n",
       "      <td>490</td>\n",
       "      <td>500</td>\n",
       "      <td>no</td>\n",
       "      <td>0.001060</td>\n",
       "      <td>0.000357</td>\n",
       "      <td>0.001450</td>\n",
       "      <td>0.000073</td>\n",
       "      <td>...</td>\n",
       "      <td>0.1210</td>\n",
       "      <td>0.000099</td>\n",
       "      <td>0.00586</td>\n",
       "      <td>0.000293</td>\n",
       "      <td>0.000779</td>\n",
       "      <td>0.000044</td>\n",
       "      <td>0.001070</td>\n",
       "      <td>0.000058</td>\n",
       "      <td>0.00149</td>\n",
       "      <td>0.000619</td>\n",
       "    </tr>\n",
       "    <tr>\n",
       "      <th>9</th>\n",
       "      <td>1</td>\n",
       "      <td>-1</td>\n",
       "      <td>1</td>\n",
       "      <td>490</td>\n",
       "      <td>500</td>\n",
       "      <td>no</td>\n",
       "      <td>0.001290</td>\n",
       "      <td>0.000421</td>\n",
       "      <td>0.001850</td>\n",
       "      <td>0.000095</td>\n",
       "      <td>...</td>\n",
       "      <td>0.2250</td>\n",
       "      <td>0.000161</td>\n",
       "      <td>0.00547</td>\n",
       "      <td>0.000334</td>\n",
       "      <td>0.000947</td>\n",
       "      <td>0.000040</td>\n",
       "      <td>0.000698</td>\n",
       "      <td>0.000064</td>\n",
       "      <td>0.00117</td>\n",
       "      <td>0.000511</td>\n",
       "    </tr>\n",
       "  </tbody>\n",
       "</table>\n",
       "<p>10 rows × 925 columns</p>\n",
       "</div>"
      ],
      "text/plain": [
       "  var_index shift seq var_start_pos var_end_pos revcomp  8988T|DNase|None  \\\n",
       "0         0    -1   0           490         500      no          0.000961   \n",
       "1         0    -1   1           490         500      no          0.001710   \n",
       "2         0     0   0           489         499      no          0.001510   \n",
       "3         0     0   1           489         499      no          0.001190   \n",
       "4         0     0   0           489         499     yes          0.003010   \n",
       "5         0     0   1           489         499     yes          0.004340   \n",
       "6         0     1   0           488         498      no          0.001490   \n",
       "7         0     1   1           488         498      no          0.001360   \n",
       "8         1    -1   0           490         500      no          0.001060   \n",
       "9         1    -1   1           490         500      no          0.001290   \n",
       "\n",
       "   A549|ATF3|EtOH_0.02pct  A549|BCL3|EtOH_0.02pct  A549|BHLHE40|None  ...  \\\n",
       "0                0.000053                0.000504           0.000038  ...   \n",
       "1                0.000063                0.000731           0.000053  ...   \n",
       "2                0.000075                0.000777           0.000048  ...   \n",
       "3                0.000066                0.000607           0.000051  ...   \n",
       "4                0.000419                0.004880           0.000075  ...   \n",
       "5                0.001040                0.011200           0.000160  ...   \n",
       "6                0.000065                0.000601           0.000049  ...   \n",
       "7                0.000059                0.000535           0.000051  ...   \n",
       "8                0.000357                0.001450           0.000073  ...   \n",
       "9                0.000421                0.001850           0.000095  ...   \n",
       "\n",
       "   U2OS|SETDB1|None  U87|NRSF|None  U87|Pol2-4H8|None  Urothelia|DNase|None  \\\n",
       "0            0.0656       0.000012            0.00210              0.000177   \n",
       "1            0.0420       0.000021            0.00332              0.000224   \n",
       "2            0.0655       0.000021            0.00316              0.000207   \n",
       "3            0.0732       0.000021            0.00204              0.000188   \n",
       "4            0.0263       0.000018            0.01730              0.000548   \n",
       "5            0.0239       0.000066            0.05910              0.000703   \n",
       "6            0.1230       0.000025            0.00274              0.000202   \n",
       "7            0.0617       0.000018            0.00259              0.000219   \n",
       "8            0.1210       0.000099            0.00586              0.000293   \n",
       "9            0.2250       0.000161            0.00547              0.000334   \n",
       "\n",
       "   Urothelia|DNase|UT189  WERI-Rb-1|CTCF|None  WERI-Rb-1|DNase|None  \\\n",
       "0               0.000475             0.000033              0.001050   \n",
       "1               0.000666             0.000036              0.001660   \n",
       "2               0.000635             0.000032              0.001500   \n",
       "3               0.000525             0.000035              0.000900   \n",
       "4               0.001700             0.000023              0.001780   \n",
       "5               0.002540             0.000050              0.003780   \n",
       "6               0.000591             0.000056              0.001660   \n",
       "7               0.000603             0.000038              0.000921   \n",
       "8               0.000779             0.000044              0.001070   \n",
       "9               0.000947             0.000040              0.000698   \n",
       "\n",
       "   WI-38|CTCF|None  WI-38|DNase|4OHTAM_20nM_72hr  WI-38|DNase|None  \n",
       "0         0.000041                       0.00118          0.000292  \n",
       "1         0.000053                       0.00116          0.000253  \n",
       "2         0.000051                       0.00181          0.000421  \n",
       "3         0.000061                       0.00108          0.000257  \n",
       "4         0.000065                       0.00882          0.003670  \n",
       "5         0.000123                       0.01160          0.004400  \n",
       "6         0.000070                       0.00128          0.000327  \n",
       "7         0.000057                       0.00118          0.000324  \n",
       "8         0.000058                       0.00149          0.000619  \n",
       "9         0.000064                       0.00117          0.000511  \n",
       "\n",
       "[10 rows x 925 columns]"
      ]
     },
     "execution_count": 16,
     "metadata": {},
     "output_type": "execute_result"
    }
   ],
   "source": [
    "# Annotate sequences\n",
    "\n",
    "# Add revcomp annotation\n",
    "deepsea_scores.insert(0, 'revcomp', 'no')\n",
    "deepsea_scores.loc[['revcomp' in x for x in deepsea_scores.name], 'revcomp'] = 'yes'\n",
    "\n",
    "deepsea_scores['name'] = deepsea_scores.name.str.replace('_revcomp', '').str.replace('[', '').str.replace(']', '')\n",
    "\n",
    "# Add the rest of the annotations\n",
    "new_cols = ['var_index', 'shift', 'seq', 'var_start_pos', 'var_end_pos']\n",
    "\n",
    "for i in range(0,5):\n",
    "    deepsea_scores.insert(i, new_cols[i], deepsea_scores.name.str.split('_').str[i])\n",
    "\n",
    "deepsea_scores.drop(['index', 'name'], axis = 1, inplace = True)\n",
    "\n",
    "deepsea_scores[:10]"
   ]
  },
  {
   "cell_type": "code",
   "execution_count": 17,
   "id": "b4e9543b",
   "metadata": {},
   "outputs": [],
   "source": [
    "# Average results from all augmented sequences and take the difference between alternate- and referece- based results\n",
    "deepsea_score_diff = (deepsea_scores\n",
    "                     .groupby(['var_index', 'seq'])\n",
    "                     .mean()\n",
    "                     .groupby('var_index')\n",
    "                     .diff()\n",
    "                     .dropna(axis = 0))"
   ]
  },
  {
   "cell_type": "code",
   "execution_count": 155,
   "id": "23fe77b1",
   "metadata": {},
   "outputs": [
    {
     "data": {
      "text/plain": [
       "Index(['8988T', 'A549', 'Adult_CD4_Th0', 'AG04449', 'AG04450', 'AG09309',\n",
       "       'AG09319', 'AG10803', 'AoAF', 'AoSMC', 'BE2_C', 'BJ', 'Caco-2', 'CD20+',\n",
       "       'CD34+_Mobilized', 'Chorion', 'CLL', 'CMK', 'Dnd41', 'ECC-1', 'Fibrobl',\n",
       "       'FibroP', 'Gliobla', 'GM06990', 'GM08714', 'GM10847', 'GM12801',\n",
       "       'GM12864', 'GM12865', 'GM12872', 'GM12873', 'GM12874', 'GM12875',\n",
       "       'GM12878', 'GM12891', 'GM12892', 'GM15510', 'GM18505', 'GM18507',\n",
       "       'GM18526', 'GM18951', 'GM19099', 'GM19193', 'GM19238', 'GM19239',\n",
       "       'GM19240', 'H1-hESC', 'H7-hESC', 'H9ES', 'HAc', 'HAEpiC', 'HA-h',\n",
       "       'HA-sp', 'HBMEC', 'HCFaa', 'HCF', 'HCM', 'HConF', 'HCPEpiC', 'HCT-116',\n",
       "       'HEEpiC', 'HEK293', 'HEK293-T-REx', 'HeLa-S3', 'Hepatocytes', 'HepG2',\n",
       "       'HFF', 'HFF-Myc', 'HGF', 'HIPEpiC', 'HL-60', 'HMEC', 'HMF', 'HMVEC-dAd',\n",
       "       'HMVEC-dBl-Ad', 'HMVEC-dBl-Neo', 'HMVEC-dLy-Ad', 'HMVEC-dLy-Neo',\n",
       "       'HMVEC-dNeo', 'HMVEC-LBl', 'HMVEC-LLy', 'HNPCEpiC', 'HPAEC', 'HPAF',\n",
       "       'HPDE6-E6E7', 'HPdLF', 'HPF', 'HRCEpiC', 'HRE', 'HRGEC', 'HRPEpiC',\n",
       "       'HSMM', 'HSMM_emb', 'HSMMtube', 'HTR8svn', 'Huh-7.5', 'Huh-7', 'HUVEC',\n",
       "       'HVMF', 'IMR90'],\n",
       "      dtype='object')"
      ]
     },
     "execution_count": 155,
     "metadata": {},
     "output_type": "execute_result"
    }
   ],
   "source": [
    "# Cell types\n",
    "deepsea_score_diff.columns.str.split('|').str[0].unique()[:100]"
   ]
  },
  {
   "cell_type": "code",
   "execution_count": 94,
   "id": "1f430911",
   "metadata": {},
   "outputs": [],
   "source": [
    "# Get top and bottom 10 most changed features\n",
    "\n",
    "deepsea_score_diff_ctcf = deepsea_score_diff[[x for x in deepsea_score_diff.columns if 'CTCF' in x ]]\n",
    "top_scores = deepsea_score_diff_ctcf.abs().median(axis = 0).sort_values(ascending = False)[:10].index\n",
    "deepsea_score_diff_ctcf_top = deepsea_score_diff_ctcf[top_scores]\n",
    "\n",
    "bottom_scores = deepsea_score_diff.abs().median(axis = 0).sort_values()[:10].index\n",
    "deepsea_score_diff_bottom = deepsea_score_diff[bottom_scores]"
   ]
  },
  {
   "cell_type": "code",
   "execution_count": 41,
   "id": "4f1c1d99",
   "metadata": {},
   "outputs": [],
   "source": [
    "import matplotlib.pyplot as plt"
   ]
  },
  {
   "cell_type": "code",
   "execution_count": 91,
   "id": "ab267c73",
   "metadata": {},
   "outputs": [
    {
     "data": {
      "image/png": "[encoded data removed]",
      "text/plain": [
       "<Figure size 1000x700 with 1 Axes>"
      ]
     },
     "metadata": {},
     "output_type": "display_data"
    }
   ],
   "source": [
    "# Plot top 10 (CTCF)\n",
    "\n",
    "fig = plt.figure(figsize =(10, 7))\n",
    "ax = fig.add_subplot(111)\n",
    " \n",
    "ax.boxplot(deepsea_score_diff_ctcf_top, vert = 0)\n",
    "ax.set_yticklabels(deepsea_score_diff_ctcf_top.columns)\n",
    "plt.title('Most affected features')\n",
    "plt.xlabel('Difference between alternate and reference predictions')\n",
    "plt.ylabel('Feature')\n",
    "plt.show()"
   ]
  },
  {
   "cell_type": "code",
   "execution_count": 95,
   "id": "b5fffa8a",
   "metadata": {},
   "outputs": [
    {
     "data": {
      "image/png": "[encoded data removed]",
      "text/plain": [
       "<Figure size 1000x700 with 1 Axes>"
      ]
     },
     "metadata": {},
     "output_type": "display_data"
    }
   ],
   "source": [
    "# Plot bottom 10\n",
    "\n",
    "fig = plt.figure(figsize =(10, 7))\n",
    "ax = fig.add_subplot(111)\n",
    " \n",
    "ax.boxplot(deepsea_score_diff_bottom, vert = 0)\n",
    "ax.set_yticklabels(deepsea_score_diff_bottom.columns)\n",
    "plt.title('Least affected features')\n",
    "plt.xlabel('Difference between alternate and reference predictions')\n",
    "plt.ylabel('Feature')\n",
    "plt.show()"
   ]
  }
 ],
 "metadata": {
  "kernelspec": {
   "display_name": "Python 3 (ipykernel)",
   "language": "python",
   "name": "python3"
  },
  "language_info": {
   "codemirror_mode": {
    "name": "ipython",
    "version": 3
   },
   "file_extension": ".py",
   "mimetype": "text/x-python",
   "name": "python",
   "nbconvert_exporter": "python",
   "pygments_lexer": "ipython3",
   "version": "3.9.0"
  },
  "toc": {
   "base_numbering": 1,
   "nav_menu": {},
   "number_sections": true,
   "sideBar": true,
   "skip_h1_title": false,
   "title_cell": "Table of Contents",
   "title_sidebar": "Contents",
   "toc_cell": false,
   "toc_position": {
    "height": "calc(100% - 180px)",
    "left": "10px",
    "top": "150px",
    "width": "384px"
   },
   "toc_section_display": true,
   "toc_window_display": true
  }
 },
 "nbformat": 4,
 "nbformat_minor": 5
}
